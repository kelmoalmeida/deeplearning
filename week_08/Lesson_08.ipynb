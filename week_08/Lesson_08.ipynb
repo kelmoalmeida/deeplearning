{
  "nbformat": 4,
  "nbformat_minor": 0,
  "metadata": {
    "colab": {
      "name": "Lesson_08.ipynb",
      "provenance": [],
      "machine_shape": "hm"
    },
    "kernelspec": {
      "name": "python3",
      "display_name": "Python 3"
    },
    "language_info": {
      "name": "python"
    },
    "accelerator": "GPU",
    "widgets": {
      "application/vnd.jupyter.widget-state+json": {
        "e9a80edda52d48eb887e630d43cada0b": {
          "model_module": "@jupyter-widgets/controls",
          "model_name": "VBoxModel",
          "model_module_version": "1.5.0",
          "state": {
            "_view_name": "VBoxView",
            "_dom_classes": [],
            "_model_name": "VBoxModel",
            "_view_module": "@jupyter-widgets/controls",
            "_model_module_version": "1.5.0",
            "_view_count": null,
            "_view_module_version": "1.5.0",
            "box_style": "",
            "layout": "IPY_MODEL_bba0d4216a904b408ef5ecdbbf2e8a83",
            "_model_module": "@jupyter-widgets/controls",
            "children": [
              "IPY_MODEL_4a67c8c19eab414a9d4791424c91a3f2",
              "IPY_MODEL_9bb089f82e9040afb1cf6ad0b259e12a"
            ]
          }
        },
        "bba0d4216a904b408ef5ecdbbf2e8a83": {
          "model_module": "@jupyter-widgets/base",
          "model_name": "LayoutModel",
          "model_module_version": "1.2.0",
          "state": {
            "_view_name": "LayoutView",
            "grid_template_rows": null,
            "right": null,
            "justify_content": null,
            "_view_module": "@jupyter-widgets/base",
            "overflow": null,
            "_model_module_version": "1.2.0",
            "_view_count": null,
            "flex_flow": null,
            "width": null,
            "min_width": null,
            "border": null,
            "align_items": null,
            "bottom": null,
            "_model_module": "@jupyter-widgets/base",
            "top": null,
            "grid_column": null,
            "overflow_y": null,
            "overflow_x": null,
            "grid_auto_flow": null,
            "grid_area": null,
            "grid_template_columns": null,
            "flex": null,
            "_model_name": "LayoutModel",
            "justify_items": null,
            "grid_row": null,
            "max_height": null,
            "align_content": null,
            "visibility": null,
            "align_self": null,
            "height": null,
            "min_height": null,
            "padding": null,
            "grid_auto_rows": null,
            "grid_gap": null,
            "max_width": null,
            "order": null,
            "_view_module_version": "1.2.0",
            "grid_template_areas": null,
            "object_position": null,
            "object_fit": null,
            "grid_auto_columns": null,
            "margin": null,
            "display": null,
            "left": null
          }
        },
        "4a67c8c19eab414a9d4791424c91a3f2": {
          "model_module": "@jupyter-widgets/controls",
          "model_name": "LabelModel",
          "model_module_version": "1.5.0",
          "state": {
            "_view_name": "LabelView",
            "style": "IPY_MODEL_e9eed862f199445fb721221e06c7bbfb",
            "_dom_classes": [],
            "description": "",
            "_model_name": "LabelModel",
            "placeholder": "​",
            "_view_module": "@jupyter-widgets/controls",
            "_model_module_version": "1.5.0",
            "value": " 0.01MB of 0.01MB uploaded (0.00MB deduped)\r",
            "_view_count": null,
            "_view_module_version": "1.5.0",
            "description_tooltip": null,
            "_model_module": "@jupyter-widgets/controls",
            "layout": "IPY_MODEL_6fd916e19ca44462b461a53b74a74677"
          }
        },
        "9bb089f82e9040afb1cf6ad0b259e12a": {
          "model_module": "@jupyter-widgets/controls",
          "model_name": "FloatProgressModel",
          "model_module_version": "1.5.0",
          "state": {
            "_view_name": "ProgressView",
            "style": "IPY_MODEL_853ee96167de41ff87c429cc34e59dc9",
            "_dom_classes": [],
            "description": "",
            "_model_name": "FloatProgressModel",
            "bar_style": "",
            "max": 1,
            "_view_module": "@jupyter-widgets/controls",
            "_model_module_version": "1.5.0",
            "value": 1,
            "_view_count": null,
            "_view_module_version": "1.5.0",
            "orientation": "horizontal",
            "min": 0,
            "description_tooltip": null,
            "_model_module": "@jupyter-widgets/controls",
            "layout": "IPY_MODEL_47d218ff13ae47579c211e85acf3f09e"
          }
        },
        "e9eed862f199445fb721221e06c7bbfb": {
          "model_module": "@jupyter-widgets/controls",
          "model_name": "DescriptionStyleModel",
          "model_module_version": "1.5.0",
          "state": {
            "_view_name": "StyleView",
            "_model_name": "DescriptionStyleModel",
            "description_width": "",
            "_view_module": "@jupyter-widgets/base",
            "_model_module_version": "1.5.0",
            "_view_count": null,
            "_view_module_version": "1.2.0",
            "_model_module": "@jupyter-widgets/controls"
          }
        },
        "6fd916e19ca44462b461a53b74a74677": {
          "model_module": "@jupyter-widgets/base",
          "model_name": "LayoutModel",
          "model_module_version": "1.2.0",
          "state": {
            "_view_name": "LayoutView",
            "grid_template_rows": null,
            "right": null,
            "justify_content": null,
            "_view_module": "@jupyter-widgets/base",
            "overflow": null,
            "_model_module_version": "1.2.0",
            "_view_count": null,
            "flex_flow": null,
            "width": null,
            "min_width": null,
            "border": null,
            "align_items": null,
            "bottom": null,
            "_model_module": "@jupyter-widgets/base",
            "top": null,
            "grid_column": null,
            "overflow_y": null,
            "overflow_x": null,
            "grid_auto_flow": null,
            "grid_area": null,
            "grid_template_columns": null,
            "flex": null,
            "_model_name": "LayoutModel",
            "justify_items": null,
            "grid_row": null,
            "max_height": null,
            "align_content": null,
            "visibility": null,
            "align_self": null,
            "height": null,
            "min_height": null,
            "padding": null,
            "grid_auto_rows": null,
            "grid_gap": null,
            "max_width": null,
            "order": null,
            "_view_module_version": "1.2.0",
            "grid_template_areas": null,
            "object_position": null,
            "object_fit": null,
            "grid_auto_columns": null,
            "margin": null,
            "display": null,
            "left": null
          }
        },
        "853ee96167de41ff87c429cc34e59dc9": {
          "model_module": "@jupyter-widgets/controls",
          "model_name": "ProgressStyleModel",
          "model_module_version": "1.5.0",
          "state": {
            "_view_name": "StyleView",
            "_model_name": "ProgressStyleModel",
            "description_width": "",
            "_view_module": "@jupyter-widgets/base",
            "_model_module_version": "1.5.0",
            "_view_count": null,
            "_view_module_version": "1.2.0",
            "bar_color": null,
            "_model_module": "@jupyter-widgets/controls"
          }
        },
        "47d218ff13ae47579c211e85acf3f09e": {
          "model_module": "@jupyter-widgets/base",
          "model_name": "LayoutModel",
          "model_module_version": "1.2.0",
          "state": {
            "_view_name": "LayoutView",
            "grid_template_rows": null,
            "right": null,
            "justify_content": null,
            "_view_module": "@jupyter-widgets/base",
            "overflow": null,
            "_model_module_version": "1.2.0",
            "_view_count": null,
            "flex_flow": null,
            "width": null,
            "min_width": null,
            "border": null,
            "align_items": null,
            "bottom": null,
            "_model_module": "@jupyter-widgets/base",
            "top": null,
            "grid_column": null,
            "overflow_y": null,
            "overflow_x": null,
            "grid_auto_flow": null,
            "grid_area": null,
            "grid_template_columns": null,
            "flex": null,
            "_model_name": "LayoutModel",
            "justify_items": null,
            "grid_row": null,
            "max_height": null,
            "align_content": null,
            "visibility": null,
            "align_self": null,
            "height": null,
            "min_height": null,
            "padding": null,
            "grid_auto_rows": null,
            "grid_gap": null,
            "max_width": null,
            "order": null,
            "_view_module_version": "1.2.0",
            "grid_template_areas": null,
            "object_position": null,
            "object_fit": null,
            "grid_auto_columns": null,
            "margin": null,
            "display": null,
            "left": null
          }
        },
        "4f25028c68d2478986d6ad6114ac3ea9": {
          "model_module": "@jupyter-widgets/controls",
          "model_name": "VBoxModel",
          "model_module_version": "1.5.0",
          "state": {
            "_view_name": "VBoxView",
            "_dom_classes": [],
            "_model_name": "VBoxModel",
            "_view_module": "@jupyter-widgets/controls",
            "_model_module_version": "1.5.0",
            "_view_count": null,
            "_view_module_version": "1.5.0",
            "box_style": "",
            "layout": "IPY_MODEL_99777a2842424b619f2083c5b024e58e",
            "_model_module": "@jupyter-widgets/controls",
            "children": [
              "IPY_MODEL_d80c59cdc6e54f0580eecdf4fa61b994",
              "IPY_MODEL_432c252f42b94cef9dcfa8913b720e08"
            ]
          }
        },
        "99777a2842424b619f2083c5b024e58e": {
          "model_module": "@jupyter-widgets/base",
          "model_name": "LayoutModel",
          "model_module_version": "1.2.0",
          "state": {
            "_view_name": "LayoutView",
            "grid_template_rows": null,
            "right": null,
            "justify_content": null,
            "_view_module": "@jupyter-widgets/base",
            "overflow": null,
            "_model_module_version": "1.2.0",
            "_view_count": null,
            "flex_flow": null,
            "width": null,
            "min_width": null,
            "border": null,
            "align_items": null,
            "bottom": null,
            "_model_module": "@jupyter-widgets/base",
            "top": null,
            "grid_column": null,
            "overflow_y": null,
            "overflow_x": null,
            "grid_auto_flow": null,
            "grid_area": null,
            "grid_template_columns": null,
            "flex": null,
            "_model_name": "LayoutModel",
            "justify_items": null,
            "grid_row": null,
            "max_height": null,
            "align_content": null,
            "visibility": null,
            "align_self": null,
            "height": null,
            "min_height": null,
            "padding": null,
            "grid_auto_rows": null,
            "grid_gap": null,
            "max_width": null,
            "order": null,
            "_view_module_version": "1.2.0",
            "grid_template_areas": null,
            "object_position": null,
            "object_fit": null,
            "grid_auto_columns": null,
            "margin": null,
            "display": null,
            "left": null
          }
        },
        "d80c59cdc6e54f0580eecdf4fa61b994": {
          "model_module": "@jupyter-widgets/controls",
          "model_name": "LabelModel",
          "model_module_version": "1.5.0",
          "state": {
            "_view_name": "LabelView",
            "style": "IPY_MODEL_3da772a0f22e408285156e40f0895c43",
            "_dom_classes": [],
            "description": "",
            "_model_name": "LabelModel",
            "placeholder": "​",
            "_view_module": "@jupyter-widgets/controls",
            "_model_module_version": "1.5.0",
            "value": " 2.91MB of 2.91MB uploaded (0.00MB deduped)\r",
            "_view_count": null,
            "_view_module_version": "1.5.0",
            "description_tooltip": null,
            "_model_module": "@jupyter-widgets/controls",
            "layout": "IPY_MODEL_eaa2046f6d054729b270167569c0de3c"
          }
        },
        "432c252f42b94cef9dcfa8913b720e08": {
          "model_module": "@jupyter-widgets/controls",
          "model_name": "FloatProgressModel",
          "model_module_version": "1.5.0",
          "state": {
            "_view_name": "ProgressView",
            "style": "IPY_MODEL_88bb302aebea459fa626036e20787546",
            "_dom_classes": [],
            "description": "",
            "_model_name": "FloatProgressModel",
            "bar_style": "",
            "max": 1,
            "_view_module": "@jupyter-widgets/controls",
            "_model_module_version": "1.5.0",
            "value": 1,
            "_view_count": null,
            "_view_module_version": "1.5.0",
            "orientation": "horizontal",
            "min": 0,
            "description_tooltip": null,
            "_model_module": "@jupyter-widgets/controls",
            "layout": "IPY_MODEL_801650d54e6f4bb8b5275fae23642373"
          }
        },
        "3da772a0f22e408285156e40f0895c43": {
          "model_module": "@jupyter-widgets/controls",
          "model_name": "DescriptionStyleModel",
          "model_module_version": "1.5.0",
          "state": {
            "_view_name": "StyleView",
            "_model_name": "DescriptionStyleModel",
            "description_width": "",
            "_view_module": "@jupyter-widgets/base",
            "_model_module_version": "1.5.0",
            "_view_count": null,
            "_view_module_version": "1.2.0",
            "_model_module": "@jupyter-widgets/controls"
          }
        },
        "eaa2046f6d054729b270167569c0de3c": {
          "model_module": "@jupyter-widgets/base",
          "model_name": "LayoutModel",
          "model_module_version": "1.2.0",
          "state": {
            "_view_name": "LayoutView",
            "grid_template_rows": null,
            "right": null,
            "justify_content": null,
            "_view_module": "@jupyter-widgets/base",
            "overflow": null,
            "_model_module_version": "1.2.0",
            "_view_count": null,
            "flex_flow": null,
            "width": null,
            "min_width": null,
            "border": null,
            "align_items": null,
            "bottom": null,
            "_model_module": "@jupyter-widgets/base",
            "top": null,
            "grid_column": null,
            "overflow_y": null,
            "overflow_x": null,
            "grid_auto_flow": null,
            "grid_area": null,
            "grid_template_columns": null,
            "flex": null,
            "_model_name": "LayoutModel",
            "justify_items": null,
            "grid_row": null,
            "max_height": null,
            "align_content": null,
            "visibility": null,
            "align_self": null,
            "height": null,
            "min_height": null,
            "padding": null,
            "grid_auto_rows": null,
            "grid_gap": null,
            "max_width": null,
            "order": null,
            "_view_module_version": "1.2.0",
            "grid_template_areas": null,
            "object_position": null,
            "object_fit": null,
            "grid_auto_columns": null,
            "margin": null,
            "display": null,
            "left": null
          }
        },
        "88bb302aebea459fa626036e20787546": {
          "model_module": "@jupyter-widgets/controls",
          "model_name": "ProgressStyleModel",
          "model_module_version": "1.5.0",
          "state": {
            "_view_name": "StyleView",
            "_model_name": "ProgressStyleModel",
            "description_width": "",
            "_view_module": "@jupyter-widgets/base",
            "_model_module_version": "1.5.0",
            "_view_count": null,
            "_view_module_version": "1.2.0",
            "bar_color": null,
            "_model_module": "@jupyter-widgets/controls"
          }
        },
        "801650d54e6f4bb8b5275fae23642373": {
          "model_module": "@jupyter-widgets/base",
          "model_name": "LayoutModel",
          "model_module_version": "1.2.0",
          "state": {
            "_view_name": "LayoutView",
            "grid_template_rows": null,
            "right": null,
            "justify_content": null,
            "_view_module": "@jupyter-widgets/base",
            "overflow": null,
            "_model_module_version": "1.2.0",
            "_view_count": null,
            "flex_flow": null,
            "width": null,
            "min_width": null,
            "border": null,
            "align_items": null,
            "bottom": null,
            "_model_module": "@jupyter-widgets/base",
            "top": null,
            "grid_column": null,
            "overflow_y": null,
            "overflow_x": null,
            "grid_auto_flow": null,
            "grid_area": null,
            "grid_template_columns": null,
            "flex": null,
            "_model_name": "LayoutModel",
            "justify_items": null,
            "grid_row": null,
            "max_height": null,
            "align_content": null,
            "visibility": null,
            "align_self": null,
            "height": null,
            "min_height": null,
            "padding": null,
            "grid_auto_rows": null,
            "grid_gap": null,
            "max_width": null,
            "order": null,
            "_view_module_version": "1.2.0",
            "grid_template_areas": null,
            "object_position": null,
            "object_fit": null,
            "grid_auto_columns": null,
            "margin": null,
            "display": null,
            "left": null
          }
        },
        "94607a5ce2dd4803ae8c32f79f7c284d": {
          "model_module": "@jupyter-widgets/controls",
          "model_name": "VBoxModel",
          "model_module_version": "1.5.0",
          "state": {
            "_view_name": "VBoxView",
            "_dom_classes": [],
            "_model_name": "VBoxModel",
            "_view_module": "@jupyter-widgets/controls",
            "_model_module_version": "1.5.0",
            "_view_count": null,
            "_view_module_version": "1.5.0",
            "box_style": "",
            "layout": "IPY_MODEL_5a5fa9721c844ceeb65070b744abcab5",
            "_model_module": "@jupyter-widgets/controls",
            "children": [
              "IPY_MODEL_fa1da7ce1edd43d5a612ae35a8f888df",
              "IPY_MODEL_323b463b8399407c9e745b393ab1b3dd"
            ]
          }
        },
        "5a5fa9721c844ceeb65070b744abcab5": {
          "model_module": "@jupyter-widgets/base",
          "model_name": "LayoutModel",
          "model_module_version": "1.2.0",
          "state": {
            "_view_name": "LayoutView",
            "grid_template_rows": null,
            "right": null,
            "justify_content": null,
            "_view_module": "@jupyter-widgets/base",
            "overflow": null,
            "_model_module_version": "1.2.0",
            "_view_count": null,
            "flex_flow": null,
            "width": null,
            "min_width": null,
            "border": null,
            "align_items": null,
            "bottom": null,
            "_model_module": "@jupyter-widgets/base",
            "top": null,
            "grid_column": null,
            "overflow_y": null,
            "overflow_x": null,
            "grid_auto_flow": null,
            "grid_area": null,
            "grid_template_columns": null,
            "flex": null,
            "_model_name": "LayoutModel",
            "justify_items": null,
            "grid_row": null,
            "max_height": null,
            "align_content": null,
            "visibility": null,
            "align_self": null,
            "height": null,
            "min_height": null,
            "padding": null,
            "grid_auto_rows": null,
            "grid_gap": null,
            "max_width": null,
            "order": null,
            "_view_module_version": "1.2.0",
            "grid_template_areas": null,
            "object_position": null,
            "object_fit": null,
            "grid_auto_columns": null,
            "margin": null,
            "display": null,
            "left": null
          }
        },
        "fa1da7ce1edd43d5a612ae35a8f888df": {
          "model_module": "@jupyter-widgets/controls",
          "model_name": "LabelModel",
          "model_module_version": "1.5.0",
          "state": {
            "_view_name": "LabelView",
            "style": "IPY_MODEL_cfa5518f33d14ae08dd4a7e1254d3337",
            "_dom_classes": [],
            "description": "",
            "_model_name": "LabelModel",
            "placeholder": "​",
            "_view_module": "@jupyter-widgets/controls",
            "_model_module_version": "1.5.0",
            "value": " 0.77MB of 0.77MB uploaded (0.00MB deduped)\r",
            "_view_count": null,
            "_view_module_version": "1.5.0",
            "description_tooltip": null,
            "_model_module": "@jupyter-widgets/controls",
            "layout": "IPY_MODEL_459e4dad727a4a2186533e7dfd5cdc4e"
          }
        },
        "323b463b8399407c9e745b393ab1b3dd": {
          "model_module": "@jupyter-widgets/controls",
          "model_name": "FloatProgressModel",
          "model_module_version": "1.5.0",
          "state": {
            "_view_name": "ProgressView",
            "style": "IPY_MODEL_1a378b60f8864bb0ad4ffea9319cd89b",
            "_dom_classes": [],
            "description": "",
            "_model_name": "FloatProgressModel",
            "bar_style": "",
            "max": 1,
            "_view_module": "@jupyter-widgets/controls",
            "_model_module_version": "1.5.0",
            "value": 1,
            "_view_count": null,
            "_view_module_version": "1.5.0",
            "orientation": "horizontal",
            "min": 0,
            "description_tooltip": null,
            "_model_module": "@jupyter-widgets/controls",
            "layout": "IPY_MODEL_a4676f24abe347a0b34f68d9ac920a96"
          }
        },
        "cfa5518f33d14ae08dd4a7e1254d3337": {
          "model_module": "@jupyter-widgets/controls",
          "model_name": "DescriptionStyleModel",
          "model_module_version": "1.5.0",
          "state": {
            "_view_name": "StyleView",
            "_model_name": "DescriptionStyleModel",
            "description_width": "",
            "_view_module": "@jupyter-widgets/base",
            "_model_module_version": "1.5.0",
            "_view_count": null,
            "_view_module_version": "1.2.0",
            "_model_module": "@jupyter-widgets/controls"
          }
        },
        "459e4dad727a4a2186533e7dfd5cdc4e": {
          "model_module": "@jupyter-widgets/base",
          "model_name": "LayoutModel",
          "model_module_version": "1.2.0",
          "state": {
            "_view_name": "LayoutView",
            "grid_template_rows": null,
            "right": null,
            "justify_content": null,
            "_view_module": "@jupyter-widgets/base",
            "overflow": null,
            "_model_module_version": "1.2.0",
            "_view_count": null,
            "flex_flow": null,
            "width": null,
            "min_width": null,
            "border": null,
            "align_items": null,
            "bottom": null,
            "_model_module": "@jupyter-widgets/base",
            "top": null,
            "grid_column": null,
            "overflow_y": null,
            "overflow_x": null,
            "grid_auto_flow": null,
            "grid_area": null,
            "grid_template_columns": null,
            "flex": null,
            "_model_name": "LayoutModel",
            "justify_items": null,
            "grid_row": null,
            "max_height": null,
            "align_content": null,
            "visibility": null,
            "align_self": null,
            "height": null,
            "min_height": null,
            "padding": null,
            "grid_auto_rows": null,
            "grid_gap": null,
            "max_width": null,
            "order": null,
            "_view_module_version": "1.2.0",
            "grid_template_areas": null,
            "object_position": null,
            "object_fit": null,
            "grid_auto_columns": null,
            "margin": null,
            "display": null,
            "left": null
          }
        },
        "1a378b60f8864bb0ad4ffea9319cd89b": {
          "model_module": "@jupyter-widgets/controls",
          "model_name": "ProgressStyleModel",
          "model_module_version": "1.5.0",
          "state": {
            "_view_name": "StyleView",
            "_model_name": "ProgressStyleModel",
            "description_width": "",
            "_view_module": "@jupyter-widgets/base",
            "_model_module_version": "1.5.0",
            "_view_count": null,
            "_view_module_version": "1.2.0",
            "bar_color": null,
            "_model_module": "@jupyter-widgets/controls"
          }
        },
        "a4676f24abe347a0b34f68d9ac920a96": {
          "model_module": "@jupyter-widgets/base",
          "model_name": "LayoutModel",
          "model_module_version": "1.2.0",
          "state": {
            "_view_name": "LayoutView",
            "grid_template_rows": null,
            "right": null,
            "justify_content": null,
            "_view_module": "@jupyter-widgets/base",
            "overflow": null,
            "_model_module_version": "1.2.0",
            "_view_count": null,
            "flex_flow": null,
            "width": null,
            "min_width": null,
            "border": null,
            "align_items": null,
            "bottom": null,
            "_model_module": "@jupyter-widgets/base",
            "top": null,
            "grid_column": null,
            "overflow_y": null,
            "overflow_x": null,
            "grid_auto_flow": null,
            "grid_area": null,
            "grid_template_columns": null,
            "flex": null,
            "_model_name": "LayoutModel",
            "justify_items": null,
            "grid_row": null,
            "max_height": null,
            "align_content": null,
            "visibility": null,
            "align_self": null,
            "height": null,
            "min_height": null,
            "padding": null,
            "grid_auto_rows": null,
            "grid_gap": null,
            "max_width": null,
            "order": null,
            "_view_module_version": "1.2.0",
            "grid_template_areas": null,
            "object_position": null,
            "object_fit": null,
            "grid_auto_columns": null,
            "margin": null,
            "display": null,
            "left": null
          }
        },
        "d9e260aae2ef458ebb48b18af190206c": {
          "model_module": "@jupyter-widgets/controls",
          "model_name": "VBoxModel",
          "model_module_version": "1.5.0",
          "state": {
            "_view_name": "VBoxView",
            "_dom_classes": [],
            "_model_name": "VBoxModel",
            "_view_module": "@jupyter-widgets/controls",
            "_model_module_version": "1.5.0",
            "_view_count": null,
            "_view_module_version": "1.5.0",
            "box_style": "",
            "layout": "IPY_MODEL_90cd5a9b74754075ad4486dd5bbd2182",
            "_model_module": "@jupyter-widgets/controls",
            "children": [
              "IPY_MODEL_28840c44ff084b0386c6b3c77c1443fd",
              "IPY_MODEL_16081a7a1f1f4e70bd22ed63a9f4d798"
            ]
          }
        },
        "90cd5a9b74754075ad4486dd5bbd2182": {
          "model_module": "@jupyter-widgets/base",
          "model_name": "LayoutModel",
          "model_module_version": "1.2.0",
          "state": {
            "_view_name": "LayoutView",
            "grid_template_rows": null,
            "right": null,
            "justify_content": null,
            "_view_module": "@jupyter-widgets/base",
            "overflow": null,
            "_model_module_version": "1.2.0",
            "_view_count": null,
            "flex_flow": null,
            "width": null,
            "min_width": null,
            "border": null,
            "align_items": null,
            "bottom": null,
            "_model_module": "@jupyter-widgets/base",
            "top": null,
            "grid_column": null,
            "overflow_y": null,
            "overflow_x": null,
            "grid_auto_flow": null,
            "grid_area": null,
            "grid_template_columns": null,
            "flex": null,
            "_model_name": "LayoutModel",
            "justify_items": null,
            "grid_row": null,
            "max_height": null,
            "align_content": null,
            "visibility": null,
            "align_self": null,
            "height": null,
            "min_height": null,
            "padding": null,
            "grid_auto_rows": null,
            "grid_gap": null,
            "max_width": null,
            "order": null,
            "_view_module_version": "1.2.0",
            "grid_template_areas": null,
            "object_position": null,
            "object_fit": null,
            "grid_auto_columns": null,
            "margin": null,
            "display": null,
            "left": null
          }
        },
        "28840c44ff084b0386c6b3c77c1443fd": {
          "model_module": "@jupyter-widgets/controls",
          "model_name": "LabelModel",
          "model_module_version": "1.5.0",
          "state": {
            "_view_name": "LabelView",
            "style": "IPY_MODEL_a34aa3f34ed34d0f9c57069ce5ab446a",
            "_dom_classes": [],
            "description": "",
            "_model_name": "LabelModel",
            "placeholder": "​",
            "_view_module": "@jupyter-widgets/controls",
            "_model_module_version": "1.5.0",
            "value": " 2.91MB of 2.91MB uploaded (0.00MB deduped)\r",
            "_view_count": null,
            "_view_module_version": "1.5.0",
            "description_tooltip": null,
            "_model_module": "@jupyter-widgets/controls",
            "layout": "IPY_MODEL_40fd028180f24db4acc9a7c2e2d19d3b"
          }
        },
        "16081a7a1f1f4e70bd22ed63a9f4d798": {
          "model_module": "@jupyter-widgets/controls",
          "model_name": "FloatProgressModel",
          "model_module_version": "1.5.0",
          "state": {
            "_view_name": "ProgressView",
            "style": "IPY_MODEL_7b9b2286adaf4cd98112e8f38636fc3c",
            "_dom_classes": [],
            "description": "",
            "_model_name": "FloatProgressModel",
            "bar_style": "",
            "max": 1,
            "_view_module": "@jupyter-widgets/controls",
            "_model_module_version": "1.5.0",
            "value": 1,
            "_view_count": null,
            "_view_module_version": "1.5.0",
            "orientation": "horizontal",
            "min": 0,
            "description_tooltip": null,
            "_model_module": "@jupyter-widgets/controls",
            "layout": "IPY_MODEL_e6da426a3aff489796ffcfd13b3f8455"
          }
        },
        "a34aa3f34ed34d0f9c57069ce5ab446a": {
          "model_module": "@jupyter-widgets/controls",
          "model_name": "DescriptionStyleModel",
          "model_module_version": "1.5.0",
          "state": {
            "_view_name": "StyleView",
            "_model_name": "DescriptionStyleModel",
            "description_width": "",
            "_view_module": "@jupyter-widgets/base",
            "_model_module_version": "1.5.0",
            "_view_count": null,
            "_view_module_version": "1.2.0",
            "_model_module": "@jupyter-widgets/controls"
          }
        },
        "40fd028180f24db4acc9a7c2e2d19d3b": {
          "model_module": "@jupyter-widgets/base",
          "model_name": "LayoutModel",
          "model_module_version": "1.2.0",
          "state": {
            "_view_name": "LayoutView",
            "grid_template_rows": null,
            "right": null,
            "justify_content": null,
            "_view_module": "@jupyter-widgets/base",
            "overflow": null,
            "_model_module_version": "1.2.0",
            "_view_count": null,
            "flex_flow": null,
            "width": null,
            "min_width": null,
            "border": null,
            "align_items": null,
            "bottom": null,
            "_model_module": "@jupyter-widgets/base",
            "top": null,
            "grid_column": null,
            "overflow_y": null,
            "overflow_x": null,
            "grid_auto_flow": null,
            "grid_area": null,
            "grid_template_columns": null,
            "flex": null,
            "_model_name": "LayoutModel",
            "justify_items": null,
            "grid_row": null,
            "max_height": null,
            "align_content": null,
            "visibility": null,
            "align_self": null,
            "height": null,
            "min_height": null,
            "padding": null,
            "grid_auto_rows": null,
            "grid_gap": null,
            "max_width": null,
            "order": null,
            "_view_module_version": "1.2.0",
            "grid_template_areas": null,
            "object_position": null,
            "object_fit": null,
            "grid_auto_columns": null,
            "margin": null,
            "display": null,
            "left": null
          }
        },
        "7b9b2286adaf4cd98112e8f38636fc3c": {
          "model_module": "@jupyter-widgets/controls",
          "model_name": "ProgressStyleModel",
          "model_module_version": "1.5.0",
          "state": {
            "_view_name": "StyleView",
            "_model_name": "ProgressStyleModel",
            "description_width": "",
            "_view_module": "@jupyter-widgets/base",
            "_model_module_version": "1.5.0",
            "_view_count": null,
            "_view_module_version": "1.2.0",
            "bar_color": null,
            "_model_module": "@jupyter-widgets/controls"
          }
        },
        "e6da426a3aff489796ffcfd13b3f8455": {
          "model_module": "@jupyter-widgets/base",
          "model_name": "LayoutModel",
          "model_module_version": "1.2.0",
          "state": {
            "_view_name": "LayoutView",
            "grid_template_rows": null,
            "right": null,
            "justify_content": null,
            "_view_module": "@jupyter-widgets/base",
            "overflow": null,
            "_model_module_version": "1.2.0",
            "_view_count": null,
            "flex_flow": null,
            "width": null,
            "min_width": null,
            "border": null,
            "align_items": null,
            "bottom": null,
            "_model_module": "@jupyter-widgets/base",
            "top": null,
            "grid_column": null,
            "overflow_y": null,
            "overflow_x": null,
            "grid_auto_flow": null,
            "grid_area": null,
            "grid_template_columns": null,
            "flex": null,
            "_model_name": "LayoutModel",
            "justify_items": null,
            "grid_row": null,
            "max_height": null,
            "align_content": null,
            "visibility": null,
            "align_self": null,
            "height": null,
            "min_height": null,
            "padding": null,
            "grid_auto_rows": null,
            "grid_gap": null,
            "max_width": null,
            "order": null,
            "_view_module_version": "1.2.0",
            "grid_template_areas": null,
            "object_position": null,
            "object_fit": null,
            "grid_auto_columns": null,
            "margin": null,
            "display": null,
            "left": null
          }
        }
      }
    }
  },
  "cells": [
    {
      "cell_type": "markdown",
      "metadata": {
        "id": "J3HMLF0xjFuN"
      },
      "source": [
        "# Introduction"
      ]
    },
    {
      "cell_type": "markdown",
      "metadata": {
        "id": "7iQkw0f8hVTs"
      },
      "source": [
        "In this lesson you will discover the architectural innovations in the development and use of convolutional neural networks. After reading the next sections, you will know:\n",
        "\n",
        "- The **ImageNet Large Scale Visual Recognition Challenge** (ILSVRC) and the deep learning-based innovations it has helped to bring about.\n",
        "\n",
        "- The **key architectural milestones** in the development and use of convolutional neural networks over the last two decades (Working in Progressing). In this first lesson will see only LeNet-5 and AlexNet, later other models will be presented\n",
        "\n",
        "- Working with HDFS files and large datasets using Cat & Dogs competition.\n"
      ]
    },
    {
      "cell_type": "markdown",
      "metadata": {
        "id": "QoxOz149h-S5"
      },
      "source": [
        "# 1.0 ImageNet, ILSVRC, and Milestone Architectures"
      ]
    },
    {
      "cell_type": "markdown",
      "metadata": {
        "id": "koM7HJtijOGO"
      },
      "source": [
        "The rise in popularity and use of deep learning neural network techniques can be traced back to the innovations in applying convolutional neural networks to image classification tasks. Some of the most important innovations have sprung from submissions by academics and industry leaders to the [ImageNet Large Scale Visual Recognition Challenge](http://image-net.org/challenges/LSVRC/), or **ILSVRC**.\n",
        "\n",
        "The ILSVRC is an annual computer vision competition developed upon a subset of a publicly available computer vision dataset called **ImageNet**. As such, the tasks and even the challenge itself are often referred to as the ImageNet Competition. In this section, you will discover the **ImageNet dataset**, the ILSVRC, and the key milestones in image classification that have resulted from the competitions. After reading this section, you will know:\n",
        "\n",
        "- The ImageNet dataset is a huge collection of human-annotated photographs designed by academics for developing computer vision algorithms.\n",
        "- The ImageNet Large Scale Visual Recognition Challenge, or ILSVRC, is an annual competition that uses subsets from the ImageNet dataset and is designed to foster the development and benchmarking of state-of-the-art algorithms.\n",
        "- The ILSVRC tasks have led to milestone model architectures and techniques in intersection of computer vision and deep learning."
      ]
    },
    {
      "cell_type": "markdown",
      "metadata": {
        "id": "Zf3egQYnldra"
      },
      "source": [
        "## 1.1 ImageNet Dataset & ILSVRC"
      ]
    },
    {
      "cell_type": "markdown",
      "metadata": {
        "id": "d6J6v4SdlyBn"
      },
      "source": [
        "**ImageNet** is a large dataset of annotated photographs intended for computer vision research. The goal of developing the dataset was to provide a resource to promote improved research and development methods for computer vision.\n",
        "\n",
        "Based on statistics about the dataset recorded on the [ImageNet homepage](http://www.image-net.org/index), there are a little more than **14 million images** in the dataset, a little more than **21 thousand groups** or classes (called synsets), and a little more than **1 million images that have bounding box annotations** (e.g.\n",
        "boxes around identified objects in the images).\n",
        "\n",
        "- The photographs were annotated by humans using crowdsourcing platforms such as [Amazon’s Mechanical Turk](https://www.mturk.com/).\n",
        "- The project to develop and maintain the dataset was organized and executed by a collocation between academics at [Princeton](https://www.cs.princeton.edu/~kaiyuy/), [Stanford](https://profiles.stanford.edu/fei-fei-li), and other American universities.\n",
        "- The project does not own the photographs that make up the images; instead, they are owned by the copyright holders. As such, the dataset is not distributed directly; URLs are provided to the images included in the dataset.\n",
        "\n",
        "\n",
        "The **ImageNet Large Scale Visual Recognition Challenge**, or ILSVRC for short, is an annual computer vision competition held to challenge tasks to use subsets of the ImageNet dataset. The challenge was to both promote the development of better computer vision techniques and benchmark the state-of-the-art. The annual challenge focuses on multiple tasks for image classification that includes both assigning a class label to an image based on the main object in the photograph and object detection that involves localizing objects within the photograph.\n",
        "\n",
        "The general challenge tasks for most years are as follows:\n",
        "\n",
        "- **Image classification**: Predict the classes of objects present in an image.\n",
        "- **Single-object localization**: Image classification + draw a bounding box around one example of each object present.\n",
        "- **Object detection**: Image classification + draw a bounding box around each object present.\n",
        "\n",
        "More recently, and given the great success in developing techniques for still photographs, the challenge tasks are changing to more complicated tasks such as labeling videos.\n",
        "\n",
        "> The datasets comprised approximately **1 million images** and **1,000 object classes**.\n",
        "\n",
        "The datasets used in challenge tasks are sometimes varied (depending on the task) and were released publicly to promote widespread participation from academia and industry. For each annual challenge, an annotated training dataset was released, along with an unannotated test dataset for which annotations had to be made and submitted to a server for evaluation. Typically, **the training dataset** was comprised of **1 million images**, with **50,000 for a validation** dataset and **150,000 for a test dataset**."
      ]
    },
    {
      "cell_type": "markdown",
      "metadata": {
        "id": "LqCzEcmZn-Z5"
      },
      "source": [
        "## 1.2 Deep Learning Milestones From ILSVRC"
      ]
    },
    {
      "cell_type": "markdown",
      "metadata": {
        "id": "vTRhQe5nLoB2"
      },
      "source": [
        "Researchers working on ILSVRC tasks have pushed back the frontier of computer vision research. The methods and papers that describe them are milestones in computer vision, deep learning, and, more broadly in artificial intelligence. The pace of improvement in the first five years of the ILSVRC was dramatic, perhaps even shocking to the field of computer vision. **Success has primarily been achieved by large (deep) convolutional neural networks (CNNs) on graphical processing unit (GPU) hardware**, which sparked an interest in deep learning that extended beyond the field out into the mainstream.\n",
        "\n",
        "> State-of-the-art accuracy has improved significantly from ILSVRC2010 to ILSVRC2014, showcasing the massive progress that has been made in large-scale object recognition over the past five years.\n",
        "\n",
        "There has been widespread participation in the ILSVRC over the years, with many significant developments and enormous academic publications. Picking out milestones from so much work is a challenge in and of itself. Nevertheless, there are techniques, often named for their parent university, research group, or company, that stand out and have become staples in the intersecting fields of deep learning and computer vision. The papers that describe the methods have become required reading, and the techniques used by the models have become\n",
        "heuristics when using general techniques in practice.\n",
        "\n",
        "> This section will highlight some of these milestone techniques proposed as part of ILSVRC in which they were introduced and the papers that describe them. The focus will be on image classification tasks."
      ]
    },
    {
      "cell_type": "markdown",
      "metadata": {
        "id": "3VvBnv71O-yJ"
      },
      "source": [
        "**Alexnet**"
      ]
    },
    {
      "cell_type": "markdown",
      "metadata": {
        "id": "ODbUIjpGOru1"
      },
      "source": [
        "Alex Krizhevsky, et al. from the University of Toronto in their 2012 paper titled [ImageNet\n",
        "Classification with Deep Convolutional Neural Networks](https://www.cs.toronto.edu/~kriz/imagenet_classification_with_deep_convolutional.pdf) developed a convolutional neural network\n",
        "that achieved top results on the ILSVRC-2010 and ILSVRC-2012 image classification tasks.\n",
        "These results sparked interest in deep learning in computer vision."
      ]
    },
    {
      "cell_type": "markdown",
      "metadata": {
        "id": "qq-jrZ_fO8pq"
      },
      "source": [
        "**ZFNet**"
      ]
    },
    {
      "cell_type": "markdown",
      "metadata": {
        "id": "Ckx6IUrBPmPE"
      },
      "source": [
        "Matthew Zeiler and Rob Fergus proposed a variation of AlexNet generally referred to as ZFNet\n",
        "in their 2013 paper titled [Visualizing and Understanding Convolutional Networks](https://arxiv.org/abs/1311.2901), a variation of which won the ILSVRC-2013 image classification task."
      ]
    },
    {
      "cell_type": "markdown",
      "metadata": {
        "id": "UyOU3OcAP2TW"
      },
      "source": [
        "**Incepiton (GoogLeNet)**"
      ]
    },
    {
      "cell_type": "markdown",
      "metadata": {
        "id": "dtGPBobiP9WT"
      },
      "source": [
        "Christian Szegedy, et al. from Google achieved top results for object detection with their\n",
        "GoogLeNet model that made use of the inception module and architecture. This approach was\n",
        "described in their 2014 paper titled [Going Deeper with Convolutions](https://arxiv.org/abs/1409.4842)."
      ]
    },
    {
      "cell_type": "markdown",
      "metadata": {
        "id": "c1bg23MWQhrO"
      },
      "source": [
        "**VGG**"
      ]
    },
    {
      "cell_type": "markdown",
      "metadata": {
        "id": "9RvBdRb8Qr-T"
      },
      "source": [
        "Karen Simonyan and Andrew Zisserman from the Oxford Vision Geometry Group (VGG)\n",
        "achieved top results for image classification and localization with their VGG model. Their\n",
        "approach is described in their 2015 paper titled [Very Deep Convolutional Networks for Large-\n",
        "Scale Image Recognition](https://arxiv.org/abs/1409.1556)."
      ]
    },
    {
      "cell_type": "markdown",
      "metadata": {
        "id": "h46pqhv7QtuB"
      },
      "source": [
        "**ResNet**"
      ]
    },
    {
      "cell_type": "markdown",
      "metadata": {
        "id": "qT7H9gFORAR-"
      },
      "source": [
        "Kaiming He, et al. from Microsoft Research achieved top results for object detection and object detection with localization tasks with their Residual Network or ResNet described in their 2015 paper titled [Deep Residual Learning for Image Recognition](https://arxiv.org/abs/1512.03385)."
      ]
    },
    {
      "cell_type": "markdown",
      "metadata": {
        "id": "YMJtZNR5RSAW"
      },
      "source": [
        "# 2.0 How Milestone Model Architectural Innovations Work"
      ]
    },
    {
      "cell_type": "markdown",
      "metadata": {
        "id": "iW6k_AmlWGEu"
      },
      "source": [
        "Convolutional neural networks are comprised of two straightforward elements, namely **convolutional layers** and **pooling layers**. Although simple, there are near-infinite ways to arrange these layers for a given computer vision problem. Fortunately, **there are both common patterns** for\n",
        "configuring these layers and architectural innovations that you can use in order to develop very deep convolutional neural networks.\n",
        "\n",
        "> Studying these architectural design decisions developed for state-of-the-art image classification tasks can provide both a rationale and intuition for how to\n",
        "use these designs when designing your own deep convolutional neural network models.\n",
        "\n",
        "In this section, you will discover the key architectural milestones for the use of convolutional neural networks for challenging image classification problems. After completing this tutorial, you will\n",
        "know:\n",
        "\n",
        "- How to pattern the number of filters and filter sizes when implementing convolutional neural networks.\n",
        "\n",
        "- How to arrange convolutional and pooling layers in a uniform pattern to develop well-performing models.\n",
        "\n",
        "- How to use the inception module and residual module to develop much deeper convolutional networks."
      ]
    },
    {
      "cell_type": "markdown",
      "metadata": {
        "id": "C7sW5mjiXK2r"
      },
      "source": [
        "## 2.1 Architectural Design for CNNs"
      ]
    },
    {
      "cell_type": "markdown",
      "metadata": {
        "id": "qKQe5EHoYpcE"
      },
      "source": [
        "The elements of a convolutional neural network, such as convolutional and pooling layers, are relatively straightforward to understand. The challenging part of using convolutional neural networks in practice is how to design model architectures that best use these simple elements. A helpful approach to learning how to design effective convolutional neural network architectures is to study successful applications. This is remarkably straightforward to do because of the intense study and application of CNNs from 2012 to 2016 for the ImageNet Large Scale Visual Recognition Challenge, or ILSVRC. This challenge resulted in both the rapid advancement in the state-of-the-art for challenging computer vision tasks and the development of general innovations in the architecture of convolutional neural network models.\n",
        "\n",
        "We will begin with **LeNet-5** that is often described as the first successful and important application of CNNs prior to the ILSVRC, then look at four different winning architectural innovations for CNNs developed for the ILSVRC, namely, **AlexNet**, **VGG**, **Inception**, and **ResNet**. By understanding these milestone models and their architecture or architectural innovations from a high-level, you will develop both an appreciation for the use of these architectural elements in modern applications of CNNs in computer vision, and be able to identify and choose architecture elements that may be useful in the design of your own models."
      ]
    },
    {
      "cell_type": "markdown",
      "metadata": {
        "id": "55GzB8QgaBId"
      },
      "source": [
        "## 2.2 LeNet-5"
      ]
    },
    {
      "cell_type": "markdown",
      "metadata": {
        "id": "Qc70EZluafYi"
      },
      "source": [
        "Perhaps the first widely known and successful application of convolutional neural networks was **LeNet-5**, described by Yann LeCun, et al. in their 1998 paper titled [Gradient-Based Learning Applied to Document Recognition](https://ieeexplore.ieee.org/document/726791). The system was developed for use in a handwritten character recognition problem and demonstrated on the **MNIST standard dataset**, achieving approximately 99.2% classification accuracy (or a 0.8% error rate). The network was then described as the central technique in a broader system referred to as **Graph Transformer Networks**.\n",
        "\n",
        "It is a long paper, and perhaps the best part to focus on is Section II. B. that describes the LeNet-5 architecture. In that section, the paper describes the **network as having seven layers** with input **grayscale images** having the shape **32 x 32**, the size of images in the **MNIST dataset**.\n",
        "\n",
        "> The model proposes a pattern of a convolutional layer followed by an average pooling layer, referred to as a **subsampling layer**.\n",
        "\n",
        "This pattern is repeated two and a half times before the output feature maps are flattened and fed to some fully connected layers for interpretation and a final prediction. A picture of the network architecture is provided in the paper and reproduced below.\n"
      ]
    },
    {
      "cell_type": "markdown",
      "source": [
        "![Architecture-of-the-LeNet-5-Convolutional-Neural-Network-for-Handwritten-Character-Recognition.png](data:image/png;base64,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)\n",
        "<caption>Architecture of the LeNet-5 Convolutional Neural Network for Handwritten Character Recognition (taken from the 1998 paper).</caption>"
      ],
      "metadata": {
        "id": "o5kwY_FaNd_Y"
      }
    },
    {
      "cell_type": "markdown",
      "source": [
        "\n",
        "The pattern of blocks of convolutional layers and pooling layers (referred to as **subsampling**) grouped and repeated **remains a typical pattern in designing and using convolutional neural networks today, more than twenty years later**. Interestingly, the architecture uses a small number of filters with a modest size as the first hidden layer, specifically 6 filters, each with 5x5 pixels. After pooling, another convolutional layer has many more filters, again with the same size, precisely 16 filters with 5x5 pixels, again followed by pooling. In the repetition of these two blocks of convolution and pooling layers, the trend increases the number of filters.\n",
        "\n",
        "Compared to modern applications, the number of filters is also small, but **the trend of increasing the number of filters with the depth of the network also remains a common pattern in modern usage of the technique.** The flattening of the feature maps and interpretation and classification of the extracted features by fully connected layers also remains a common pattern today.\n",
        "\n",
        "> In modern terminology, the **final section of the architecture** is often referred to as the **classifier**, whereas the **convolutional and pooling layers** earlier in the model are referred to as the **feature extractor**.\n",
        "\n",
        "We can summarize the key aspects of the architecture relevant in modern models as follows:\n",
        "\n",
        "- Fixed-sized input images.\n",
        "- Group convolutional and pooling layers into blocks.\n",
        "- Repetition of convolutional-pooling blocks in the architecture.\n",
        "- Increase in the number of filters with the depth of the network.\n",
        "- Distinct feature extraction and classifier parts of the architecture."
      ],
      "metadata": {
        "id": "3ZWuGicKNej-"
      }
    },
    {
      "cell_type": "markdown",
      "metadata": {
        "id": "Mi1tAkmhVIYu"
      },
      "source": [
        "### 2.2.1 Implementing the LeNet-5 model"
      ]
    },
    {
      "cell_type": "code",
      "metadata": {
        "id": "DBU9-5-TxLfe"
      },
      "source": [
        "%%capture\n",
        "!pip install wandb"
      ],
      "execution_count": null,
      "outputs": []
    },
    {
      "cell_type": "code",
      "metadata": {
        "id": "AEGdKdb9xQ3f",
        "colab": {
          "base_uri": "https://localhost:8080/"
        },
        "outputId": "47334018-5988-4d6f-f5f7-dafdaaae329f"
      },
      "source": [
        "!wandb login"
      ],
      "execution_count": null,
      "outputs": [
        {
          "output_type": "stream",
          "text": [
            "\u001b[34m\u001b[1mwandb\u001b[0m: You can find your API key in your browser here: https://wandb.ai/authorize\n",
            "\u001b[34m\u001b[1mwandb\u001b[0m: Paste an API key from your profile and hit enter: \n",
            "\u001b[34m\u001b[1mwandb\u001b[0m: Appending key for api.wandb.ai to your netrc file: /root/.netrc\n"
          ],
          "name": "stdout"
        }
      ]
    },
    {
      "cell_type": "code",
      "metadata": {
        "id": "fVAEJgbHq3Zb"
      },
      "source": [
        "import tensorflow as tf\n",
        "from tensorflow.keras.models import Sequential\n",
        "from tensorflow.keras.layers import Conv2D,AveragePooling2D,Flatten,Dense\n",
        "from sklearn.metrics import classification_report\n",
        "import matplotlib.pyplot as plt\n",
        "import numpy as np\n",
        "import time\n",
        "import datetime\n",
        "import os\n",
        "import pytz\n",
        "import wandb\n",
        "from wandb.keras import WandbCallback"
      ],
      "execution_count": null,
      "outputs": []
    },
    {
      "cell_type": "code",
      "metadata": {
        "id": "VIif9rIRhAun",
        "colab": {
          "base_uri": "https://localhost:8080/"
        },
        "outputId": "6b97fbac-032a-44ff-965d-6286d03c0440"
      },
      "source": [
        "# load the datasets\n",
        "(train_x, train_y), (test_x, test_y) = tf.keras.datasets.mnist.load_data()\n",
        "train_x = train_x / 255.0\n",
        "test_x = test_x / 255.0\n",
        "\n",
        "# train and test sets\n",
        "train_x = tf.expand_dims(train_x, 3)\n",
        "test_x = tf.expand_dims(test_x, 3)\n",
        "\n",
        "# print shape\n",
        "print(\"Train shape: {0:}\".format(train_x.shape))\n",
        "print(\"Test shape: {0:}\".format(test_x.shape))"
      ],
      "execution_count": null,
      "outputs": [
        {
          "output_type": "stream",
          "text": [
            "Downloading data from https://storage.googleapis.com/tensorflow/tf-keras-datasets/mnist.npz\n",
            "11493376/11490434 [==============================] - 0s 0us/step\n",
            "11501568/11490434 [==============================] - 0s 0us/step\n",
            "Train shape: (60000, 28, 28, 1)\n",
            "Test shape: (10000, 28, 28, 1)\n"
          ],
          "name": "stdout"
        }
      ]
    },
    {
      "cell_type": "code",
      "metadata": {
        "id": "IECW3g0tka1E",
        "colab": {
          "base_uri": "https://localhost:8080/"
        },
        "outputId": "19d6a2d8-5cd0-42cc-f8d6-9b59e8671763"
      },
      "source": [
        "train_x[0].shape"
      ],
      "execution_count": null,
      "outputs": [
        {
          "output_type": "execute_result",
          "data": {
            "text/plain": [
              "TensorShape([28, 28, 1])"
            ]
          },
          "metadata": {},
          "execution_count": 6
        }
      ]
    },
    {
      "cell_type": "markdown",
      "metadata": {
        "id": "IPx0ngMJ4drt"
      },
      "source": []
    },
    {
      "cell_type": "code",
      "metadata": {
        "id": "VZ4qC9URgfIG",
        "colab": {
          "base_uri": "https://localhost:8080/",
          "height": 306,
          "referenced_widgets": [
            "e9a80edda52d48eb887e630d43cada0b",
            "bba0d4216a904b408ef5ecdbbf2e8a83",
            "4a67c8c19eab414a9d4791424c91a3f2",
            "9bb089f82e9040afb1cf6ad0b259e12a",
            "e9eed862f199445fb721221e06c7bbfb",
            "6fd916e19ca44462b461a53b74a74677",
            "853ee96167de41ff87c429cc34e59dc9",
            "47d218ff13ae47579c211e85acf3f09e"
          ]
        },
        "outputId": "7a137a45-f7b9-48e9-81ce-d2ff2a7c4cba"
      },
      "source": [
        "# Set an experiment name to group training and evaluation\n",
        "experiment_name = wandb.util.generate_id()\n",
        "\n",
        "# setup wandb\n",
        "wandb.init(project=\"week08\",\n",
        "           group=experiment_name,\n",
        "           config={\n",
        "               \"filter_c1\": 6,\n",
        "               \"filter_c1_size\": (5,5),\n",
        "               \"filter_c3\": 16,\n",
        "               \"filter_c3_size\": (5,5),\n",
        "               \"layer_c5\": 120,\n",
        "               \"layer_f6\": 84,\n",
        "               \"loss\": \"sparse_categorical_crossentropy\",\n",
        "               \"metric\": \"accuracy\",\n",
        "               \"epoch\": 6,\n",
        "               \"batch_size\": 32,\n",
        "               \"optimizer\": \"adam\"\n",
        "           })\n",
        "config = wandb.config"
      ],
      "execution_count": null,
      "outputs": [
        {
          "output_type": "display_data",
          "data": {
            "text/html": [
              "Finishing last run (ID:2jqvqwiu) before initializing another..."
            ],
            "text/plain": [
              "<IPython.core.display.HTML object>"
            ]
          },
          "metadata": {}
        },
        {
          "output_type": "display_data",
          "data": {
            "text/html": [
              "<br/>Waiting for W&B process to finish, PID 226<br/>Program ended successfully."
            ],
            "text/plain": [
              "<IPython.core.display.HTML object>"
            ]
          },
          "metadata": {}
        },
        {
          "output_type": "display_data",
          "data": {
            "application/vnd.jupyter.widget-view+json": {
              "model_id": "e9a80edda52d48eb887e630d43cada0b",
              "version_minor": 0,
              "version_major": 2
            },
            "text/plain": [
              "VBox(children=(Label(value=' 0.00MB of 0.00MB uploaded (0.00MB deduped)\\r'), FloatProgress(value=1.0, max=1.0)…"
            ]
          },
          "metadata": {}
        },
        {
          "output_type": "display_data",
          "data": {
            "text/html": [
              "Find user logs for this run at: <code>/content/wandb/run-20210824_103448-2jqvqwiu/logs/debug.log</code>"
            ],
            "text/plain": [
              "<IPython.core.display.HTML object>"
            ]
          },
          "metadata": {}
        },
        {
          "output_type": "display_data",
          "data": {
            "text/html": [
              "Find internal logs for this run at: <code>/content/wandb/run-20210824_103448-2jqvqwiu/logs/debug-internal.log</code>"
            ],
            "text/plain": [
              "<IPython.core.display.HTML object>"
            ]
          },
          "metadata": {}
        },
        {
          "output_type": "display_data",
          "data": {
            "text/html": [
              "Synced 4 W&B file(s), 0 media file(s), 0 artifact file(s) and 0 other file(s)"
            ],
            "text/plain": [
              "<IPython.core.display.HTML object>"
            ]
          },
          "metadata": {}
        },
        {
          "output_type": "display_data",
          "data": {
            "text/html": [
              "\n",
              "                    <br/>Synced <strong style=\"color:#cdcd00\">kind-spaceship-1</strong>: <a href=\"https://wandb.ai/ivanovitch-silva/lesson06/runs/2jqvqwiu\" target=\"_blank\">https://wandb.ai/ivanovitch-silva/lesson06/runs/2jqvqwiu</a><br/>\n",
              "                "
            ],
            "text/plain": [
              "<IPython.core.display.HTML object>"
            ]
          },
          "metadata": {}
        },
        {
          "output_type": "display_data",
          "data": {
            "text/html": [
              "...Successfully finished last run (ID:2jqvqwiu). Initializing new run:<br/><br/>"
            ],
            "text/plain": [
              "<IPython.core.display.HTML object>"
            ]
          },
          "metadata": {}
        },
        {
          "output_type": "display_data",
          "data": {
            "text/html": [
              "\n",
              "                Tracking run with wandb version 0.12.0<br/>\n",
              "                Syncing run <strong style=\"color:#cdcd00\">dry-gorge-1</strong> to <a href=\"https://wandb.ai\" target=\"_blank\">Weights & Biases</a> <a href=\"https://docs.wandb.com/integrations/jupyter.html\" target=\"_blank\">(Documentation)</a>.<br/>\n",
              "                Project page: <a href=\"https://wandb.ai/ivanovitch-silva/week08\" target=\"_blank\">https://wandb.ai/ivanovitch-silva/week08</a><br/>\n",
              "                Run page: <a href=\"https://wandb.ai/ivanovitch-silva/week08/runs/1js8fxr6\" target=\"_blank\">https://wandb.ai/ivanovitch-silva/week08/runs/1js8fxr6</a><br/>\n",
              "                Run data is saved locally in <code>/content/wandb/run-20210824_103502-1js8fxr6</code><br/><br/>\n",
              "            "
            ],
            "text/plain": [
              "<IPython.core.display.HTML object>"
            ]
          },
          "metadata": {}
        }
      ]
    },
    {
      "cell_type": "code",
      "metadata": {
        "id": "u-rs3zMOhfTs"
      },
      "source": [
        "#\n",
        "# create LeNet-5 model\n",
        "#\n",
        "# it is composed of the 8 layers (5 layers considering FC as one layer) such as:\n",
        "#      - 2 convolutional layers\n",
        "#      - 2 subsampling (avg pooling) layers\n",
        "#      - 1 flatten layer\n",
        "#      - 2 fully connected layers\n",
        "#      - 1 output layer with 10 outputs\n",
        "\n",
        "lenet5 = Sequential()\n",
        "\n",
        "lenet5.add(Conv2D(config.filter_c1, config.filter_c1_size, strides=1,  activation='tanh', input_shape=(28,28,1), padding='same')) #C1\n",
        "lenet5.add(AveragePooling2D()) #S2\n",
        "lenet5.add(Conv2D(config.filter_c3, config.filter_c3_size, strides=1, activation='tanh', padding='valid')) #C3\n",
        "lenet5.add(AveragePooling2D()) #S4\n",
        "lenet5.add(Flatten()) #Flatten\n",
        "lenet5.add(Dense(config.layer_c5, activation='tanh')) #C5\n",
        "lenet5.add(Dense(config.layer_f6, activation='tanh')) #F6\n",
        "lenet5.add(Dense(10, activation='softmax')) #Output layer"
      ],
      "execution_count": null,
      "outputs": []
    },
    {
      "cell_type": "code",
      "metadata": {
        "id": "wyhpMURGhjOl",
        "colab": {
          "base_uri": "https://localhost:8080/"
        },
        "outputId": "d43ef9f5-f687-4aeb-c896-3919553e4982"
      },
      "source": [
        "lenet5.summary()"
      ],
      "execution_count": null,
      "outputs": [
        {
          "output_type": "stream",
          "text": [
            "Model: \"sequential\"\n",
            "_________________________________________________________________\n",
            "Layer (type)                 Output Shape              Param #   \n",
            "=================================================================\n",
            "conv2d (Conv2D)              (None, 28, 28, 6)         156       \n",
            "_________________________________________________________________\n",
            "average_pooling2d (AveragePo (None, 14, 14, 6)         0         \n",
            "_________________________________________________________________\n",
            "conv2d_1 (Conv2D)            (None, 10, 10, 16)        2416      \n",
            "_________________________________________________________________\n",
            "average_pooling2d_1 (Average (None, 5, 5, 16)          0         \n",
            "_________________________________________________________________\n",
            "flatten (Flatten)            (None, 400)               0         \n",
            "_________________________________________________________________\n",
            "dense (Dense)                (None, 120)               48120     \n",
            "_________________________________________________________________\n",
            "dense_1 (Dense)              (None, 84)                10164     \n",
            "_________________________________________________________________\n",
            "dense_2 (Dense)              (None, 10)                850       \n",
            "=================================================================\n",
            "Total params: 61,706\n",
            "Trainable params: 61,706\n",
            "Non-trainable params: 0\n",
            "_________________________________________________________________\n"
          ],
          "name": "stdout"
        }
      ]
    },
    {
      "cell_type": "code",
      "metadata": {
        "id": "ezyJZXBUmj07"
      },
      "source": [
        "%%wandb\n",
        "\n",
        "# configure the optimizer, loss, and metrics to monitor.\n",
        "lenet5.compile(optimizer=config.optimizer,\n",
        "               loss=config.loss,\n",
        "               metrics=[config.metric])\n",
        "\n",
        "# training\n",
        "history = lenet5.fit(x=train_x,\n",
        "                    y=train_y,\n",
        "                    batch_size=config.batch_size,\n",
        "                    epochs=config.epoch,\n",
        "                    validation_data=(test_x,test_y),\n",
        "                    callbacks=[WandbCallback()])\n",
        "\n",
        "wandb.finish()"
      ],
      "execution_count": null,
      "outputs": []
    },
    {
      "cell_type": "markdown",
      "metadata": {
        "id": "FYvs8Rx2Bf7T"
      },
      "source": [
        "**Log Analysis**\n",
        "\n",
        "Next, log an analysis run, using the same experiment name as the group parameter so that this run and the previous run are grouped together in W&B."
      ]
    },
    {
      "cell_type": "code",
      "metadata": {
        "id": "TklsWV-FBcSB"
      },
      "source": [
        "%%capture\n",
        "# Install dependencies\n",
        "!pip install scikit-plot -qqq"
      ],
      "execution_count": null,
      "outputs": []
    },
    {
      "cell_type": "code",
      "metadata": {
        "id": "2U3M91iyBsZl",
        "colab": {
          "base_uri": "https://localhost:8080/",
          "height": 1000,
          "referenced_widgets": [
            "4f25028c68d2478986d6ad6114ac3ea9",
            "99777a2842424b619f2083c5b024e58e",
            "d80c59cdc6e54f0580eecdf4fa61b994",
            "432c252f42b94cef9dcfa8913b720e08",
            "3da772a0f22e408285156e40f0895c43",
            "eaa2046f6d054729b270167569c0de3c",
            "88bb302aebea459fa626036e20787546",
            "801650d54e6f4bb8b5275fae23642373"
          ]
        },
        "outputId": "ae40968f-84fc-4830-9d5b-9b73d3d2d933"
      },
      "source": [
        "import numpy as np\n",
        "from sklearn.metrics import f1_score\n",
        "import matplotlib.pyplot as plt\n",
        "from scikitplot.metrics import plot_confusion_matrix, plot_roc, plot_precision_recall\n",
        "\n",
        "wandb.init(project=\"week08\", group=experiment_name)\n",
        "\n",
        "# Class proportions\n",
        "labels = [str(i) for i in list(set(test_y))]\n",
        "wandb.log({'Class Proportions': wandb.sklearn.plot_class_proportions(train_y,test_y,labels)}, commit=False) # Hold on, more incoming!\n",
        "\n",
        "# Log F1 Score\n",
        "test_y_pred = np.asarray(lenet5.predict(test_x))\n",
        "test_y_pred_class = np.argmax(test_y_pred, axis=1)\n",
        "f1 = f1_score(test_y, test_y_pred_class, average='micro')\n",
        "wandb.log({\"f1\": f1}, commit=False)\n",
        "\n",
        "# Log Confusion Matrix\n",
        "fig, ax = plt.subplots(figsize=(16, 12))\n",
        "plot_confusion_matrix(test_y, test_y_pred_class, ax=ax)\n",
        "wandb.log({\"confusion_matrix\": wandb.Image(fig)}, commit=False)\n",
        "\n",
        "# Log ROC Curve\n",
        "fig, ax = plt.subplots(figsize=(16, 12))\n",
        "plot_roc(test_y, test_y_pred, ax=ax)\n",
        "wandb.log({\"plot_roc\": wandb.Image(fig)},commit=False)  # Now we've logged everything for this step\n",
        "\n",
        "# Precision vs Recall\n",
        "fig, ax = plt.subplots(figsize=(16, 12))\n",
        "plot_precision_recall(test_y, test_y_pred, ax=ax)\n",
        "wandb.log({\"plot_precision_recall\": wandb.Image(fig)},commit=False)  # Now we've logged everything for this step\n",
        "\n",
        "# Class Scores\n",
        "class_score_data = []\n",
        "for test, pred in zip(test_y, test_y_pred):\n",
        "    class_score_data.append([test, pred])\n",
        "\n",
        "wandb.log({\"class_scores\": wandb.Table(data=class_score_data,\n",
        "                                           columns=[\"test\", \"pred\"])}, commit=False)\n",
        "\n",
        "#\n",
        "# Visualize Predictions\n",
        "#\n",
        "# visualize 18 numbers\n",
        "def show_image(train_image, label, index):\n",
        "    plt.subplot(3, 6, index+1)\n",
        "    plt.imshow(tf.squeeze(train_image), cmap=plt.cm.gray)\n",
        "    plt.title(label)\n",
        "    plt.grid(b=False)\n",
        "\n",
        "# predictions\n",
        "predictions = lenet5.predict(test_x)\n",
        "results = np.argmax(predictions, axis = 1)\n",
        "\n",
        "# visualize the first 18 test results\n",
        "plt.figure(figsize=(12, 8))\n",
        "for index in range(18):\n",
        "    label = results[index]\n",
        "    image_pixels = test_x[index,:,:,:]\n",
        "    show_image(image_pixels, label, index)\n",
        "plt.tight_layout()\n",
        "\n",
        "wandb.log({\"Predictions\": plt}, commit=True)\n",
        "\n",
        "wandb.finish()"
      ],
      "execution_count": null,
      "outputs": [
        {
          "output_type": "display_data",
          "data": {
            "text/html": [
              "\n",
              "                Tracking run with wandb version 0.12.0<br/>\n",
              "                Syncing run <strong style=\"color:#cdcd00\">youthful-salad-2</strong> to <a href=\"https://wandb.ai\" target=\"_blank\">Weights & Biases</a> <a href=\"https://docs.wandb.com/integrations/jupyter.html\" target=\"_blank\">(Documentation)</a>.<br/>\n",
              "                Project page: <a href=\"https://wandb.ai/ivanovitch-silva/week08\" target=\"_blank\">https://wandb.ai/ivanovitch-silva/week08</a><br/>\n",
              "                Run page: <a href=\"https://wandb.ai/ivanovitch-silva/week08/runs/22ubz1xe\" target=\"_blank\">https://wandb.ai/ivanovitch-silva/week08/runs/22ubz1xe</a><br/>\n",
              "                Run data is saved locally in <code>/content/wandb/run-20210824_103623-22ubz1xe</code><br/><br/>\n",
              "            "
            ],
            "text/plain": [
              "<IPython.core.display.HTML object>"
            ]
          },
          "metadata": {}
        },
        {
          "output_type": "display_data",
          "data": {
            "text/html": [
              "<br/>Waiting for W&B process to finish, PID 386<br/>Program ended successfully."
            ],
            "text/plain": [
              "<IPython.core.display.HTML object>"
            ]
          },
          "metadata": {}
        },
        {
          "output_type": "display_data",
          "data": {
            "application/vnd.jupyter.widget-view+json": {
              "model_id": "4f25028c68d2478986d6ad6114ac3ea9",
              "version_minor": 0,
              "version_major": 2
            },
            "text/plain": [
              "VBox(children=(Label(value=' 2.90MB of 2.90MB uploaded (0.00MB deduped)\\r'), FloatProgress(value=1.0, max=1.0)…"
            ]
          },
          "metadata": {}
        },
        {
          "output_type": "display_data",
          "data": {
            "text/html": [
              "Find user logs for this run at: <code>/content/wandb/run-20210824_103623-22ubz1xe/logs/debug.log</code>"
            ],
            "text/plain": [
              "<IPython.core.display.HTML object>"
            ]
          },
          "metadata": {}
        },
        {
          "output_type": "display_data",
          "data": {
            "text/html": [
              "Find internal logs for this run at: <code>/content/wandb/run-20210824_103623-22ubz1xe/logs/debug-internal.log</code>"
            ],
            "text/plain": [
              "<IPython.core.display.HTML object>"
            ]
          },
          "metadata": {}
        },
        {
          "output_type": "display_data",
          "data": {
            "text/html": [
              "<h3>Run summary:</h3><br/><style>\n",
              "    table.wandb td:nth-child(1) { padding: 0 10px; text-align: right }\n",
              "    </style><table class=\"wandb\">\n",
              "<tr><td>_runtime</td><td>5</td></tr><tr><td>_timestamp</td><td>1629801388</td></tr><tr><td>_step</td><td>1</td></tr><tr><td>f1</td><td>0.9864</td></tr></table>"
            ],
            "text/plain": [
              "<IPython.core.display.HTML object>"
            ]
          },
          "metadata": {}
        },
        {
          "output_type": "display_data",
          "data": {
            "text/html": [
              "<h3>Run history:</h3><br/><style>\n",
              "    table.wandb td:nth-child(1) { padding: 0 10px; text-align: right }\n",
              "    </style><table class=\"wandb\">\n",
              "<tr><td>_runtime</td><td>▁█</td></tr><tr><td>_timestamp</td><td>▁█</td></tr><tr><td>_step</td><td>▁█</td></tr><tr><td>f1</td><td>▁</td></tr></table><br/>"
            ],
            "text/plain": [
              "<IPython.core.display.HTML object>"
            ]
          },
          "metadata": {}
        },
        {
          "output_type": "display_data",
          "data": {
            "text/html": [
              "Synced 4 W&B file(s), 6 media file(s), 3 artifact file(s) and 0 other file(s)"
            ],
            "text/plain": [
              "<IPython.core.display.HTML object>"
            ]
          },
          "metadata": {}
        },
        {
          "output_type": "display_data",
          "data": {
            "text/html": [
              "\n",
              "                    <br/>Synced <strong style=\"color:#cdcd00\">youthful-salad-2</strong>: <a href=\"https://wandb.ai/ivanovitch-silva/week08/runs/22ubz1xe\" target=\"_blank\">https://wandb.ai/ivanovitch-silva/week08/runs/22ubz1xe</a><br/>\n",
              "                "
            ],
            "text/plain": [
              "<IPython.core.display.HTML object>"
            ]
          },
          "metadata": {}
        },
        {
          "output_type": "display_data",
          "data": {
            "image/png": "[encoded data removed]",
            "text/plain": [
              "<Figure size 1152x864 with 2 Axes>"
            ]
          },
          "metadata": {
            "needs_background": "light"
          }
        },
        {
          "output_type": "display_data",
          "data": {
            "image/png": "[encoded data removed]",
            "text/plain": [
              "<Figure size 1152x864 with 1 Axes>"
            ]
          },
          "metadata": {
            "needs_background": "light"
          }
        },
        {
          "output_type": "display_data",
          "data": {
            "image/png": "[encoded data removed]",
            "text/plain": [
              "<Figure size 1152x864 with 1 Axes>"
            ]
          },
          "metadata": {
            "needs_background": "light"
          }
        },
        {
          "output_type": "display_data",
          "data": {
            "image/png": "[encoded data removed]",
            "text/plain": [
              "<Figure size 864x576 with 18 Axes>"
            ]
          },
          "metadata": {
            "needs_background": "light"
          }
        }
      ]
    },
    {
      "cell_type": "code",
      "metadata": {
        "id": "_M44zgGg90A4",
        "colab": {
          "base_uri": "https://localhost:8080/"
        },
        "outputId": "6e9ec23d-83b5-4dc1-ed31-01b4c2440ae6"
      },
      "source": [
        "print(\"[INFO] evaluating network...\")\n",
        "predictions = lenet5.predict(test_x, batch_size=32)\n",
        "print(classification_report(test_y,predictions.argmax(axis=1)))"
      ],
      "execution_count": null,
      "outputs": [
        {
          "output_type": "stream",
          "text": [
            "[INFO] evaluating network...\n",
            "              precision    recall  f1-score   support\n",
            "\n",
            "           0       0.99      0.99      0.99       980\n",
            "           1       0.99      1.00      0.99      1135\n",
            "           2       0.99      0.99      0.99      1032\n",
            "           3       0.98      0.99      0.99      1010\n",
            "           4       0.98      0.99      0.99       982\n",
            "           5       1.00      0.98      0.99       892\n",
            "           6       0.98      0.99      0.98       958\n",
            "           7       0.99      0.97      0.98      1028\n",
            "           8       0.98      0.99      0.98       974\n",
            "           9       0.99      0.97      0.98      1009\n",
            "\n",
            "    accuracy                           0.99     10000\n",
            "   macro avg       0.99      0.99      0.99     10000\n",
            "weighted avg       0.99      0.99      0.99     10000\n",
            "\n"
          ],
          "name": "stdout"
        }
      ]
    },
    {
      "cell_type": "markdown",
      "metadata": {
        "id": "ElCu4byeuZjo"
      },
      "source": [
        "### 2.2.2 Data Augmentation"
      ]
    },
    {
      "cell_type": "markdown",
      "metadata": {
        "id": "blctuqAA-5G5"
      },
      "source": [
        "According to [Goodfellow et al.](https://www.deeplearningbook.org/), regularization is\n",
        "\n",
        "> “(...) any modification we make to a learning algorithm that is intended to reduce its generalization error, but not its training error”\n",
        "\n",
        "In short, regularization seeks to reduce our testing error perhaps at the expense of increasing training error slightly.\n",
        "\n",
        "We’ve already looked at different forms of regularization in the first part of this course; however, these were parameterized forms of regularization, requiring us to update our loss/update\n",
        "function. In fact, there exist other types of regularization that either:\n",
        "\n",
        "1. Modify the network architecture itself.\n",
        "2. Augment the data passed into the network for training.\n",
        "\n",
        "**Dropout** is a great example of modifying a network architecture by achieving greater generalizability. Here we insert a layer that randomly disconnects nodes from the previous layer to the next layer, thereby ensuring that no single node is responsible for learning how to represent a given class.\n",
        "\n",
        "In this section we’ll be discussing another type of regularization called **data augmentation**. This method purposely perturbs training examples, changing their appearance slightly, before passing them into the network for training. The end result is that a network consistently sees “new” training data points generated from the original training data, partially alleviating the need for us to gather more training data (though in general, gathering more training data will rarely hurt your algorithm).\n",
        "\n",
        "**Data augmentation** encompasses a wide range of techniques used to generate new training samples from the original ones by applying random jitters and perturbations such that the classes labels are\n",
        "not changed.\n",
        "\n",
        "> Our goal when applying **data augmentation** is to increase the generalizability of the model.\n",
        "\n",
        "Given that our network is constantly seeing new, slightly modified versions of the input data points, it’s able to learn more robust features.\n",
        "\n",
        "> At testing time, we do not apply data augmentation\n",
        "and evaluate our trained network – in most cases, you’ll see an increase in testing accuracy, perhaps at the expense at a slight dip in training accuracy.\n",
        "<!--\n",
        "<center><img width=\"600\" src=\"https://drive.google.com/uc?export=view&id=1PWNBYi_ziF8YnCCd25vnmsf9nxq-KsGH\"></center><center><b>Left</b>: A sample of 250 data points that follow a normal distribution exactly. <b>Right</b>: Adding a small amount of random “jitter” to the distribution. This type of data augmentation can\n",
        "increase the generalizability of our networks.</center>\n",
        "-->\n",
        "\n",
        "Let’s consider the Figure above (**left**) of a normal distribution with zero mean and unit variance. Training a machine learning model on this data may result in us modeling the distribution exactly –\n",
        "however, in real-world applications, data rarely follows such a neat distribution.\n",
        "\n",
        "Instead, to increase the generalizability of our classifier, we may first randomly jitter points along the distribution by adding some values e drawn from a random distribution (**right**). Our plot\n",
        "still follows an **approximately normal distribution**, but it’s not a perfect distribution as on the left. A model trained on this data is more likely to generalize to example data points not included in the\n",
        "training set.\n",
        "  **In the context of computer vision, data augmentation lends itself naturally**. For example, we can obtain additional training data from the original images by apply simple geometric transforms such as random:\n",
        "\n",
        "1. Translations\n",
        "2. Rotations\n",
        "3. Changes in scale\n",
        "4. Shearing\n",
        "5. Horizontal (and in some cases, vertical) flips\n",
        "\n",
        "Applying a (small) amount of these transformations to an input image will change its appearance slightly, but it does not change the class label – thereby making data augmentation a very natural, easy method to apply to deep learning for computer vision tasks."
      ]
    },
    {
      "cell_type": "code",
      "metadata": {
        "id": "4DBD44X1ujyO",
        "colab": {
          "base_uri": "https://localhost:8080/"
        },
        "outputId": "3f82d4a6-f018-44fc-a502-ff02456c0b66"
      },
      "source": [
        "# load the datasets\n",
        "(train_x, train_y), (test_x, test_y) = tf.keras.datasets.mnist.load_data()\n",
        "train_x = train_x / 255.0\n",
        "test_x = test_x / 255.0\n",
        "\n",
        "# train and test sets\n",
        "train_x = tf.expand_dims(train_x, 3)\n",
        "test_x = tf.expand_dims(test_x, 3)\n",
        "\n",
        "# print shape\n",
        "print(\"Train shape: {0:}\".format(train_x.shape))\n",
        "print(\"Test shape: {0:}\".format(test_x.shape))"
      ],
      "execution_count": null,
      "outputs": [
        {
          "output_type": "stream",
          "text": [
            "Train shape: (60000, 28, 28, 1)\n",
            "Test shape: (10000, 28, 28, 1)\n"
          ],
          "name": "stdout"
        }
      ]
    },
    {
      "cell_type": "code",
      "metadata": {
        "id": "Cpa4fRxmuweP"
      },
      "source": [
        "# visualize 18 numbers\n",
        "def show_image(train_image, label, index):\n",
        "    plt.subplot(3, 6, index+1)\n",
        "    plt.imshow(tf.squeeze(train_image), cmap=plt.cm.gray)\n",
        "    plt.title(label)\n",
        "    plt.grid(b=False)"
      ],
      "execution_count": null,
      "outputs": []
    },
    {
      "cell_type": "code",
      "metadata": {
        "id": "m43Dq3WowsCk",
        "colab": {
          "base_uri": "https://localhost:8080/",
          "height": 552
        },
        "outputId": "152cd7f5-0f63-49ac-9cc9-9712c9ad50e0"
      },
      "source": [
        "# visualize the first 18 numbers\n",
        "plt.figure(figsize=(12, 8))\n",
        "for index in range(18):\n",
        "    label = train_y[index]\n",
        "    image_pixels = train_x[index,:,:,:]\n",
        "    show_image(image_pixels, label, index)\n",
        "plt.tight_layout()"
      ],
      "execution_count": null,
      "outputs": [
        {
          "output_type": "display_data",
          "data": {
            "image/png": "[encoded data removed]",
            "text/plain": [
              "<Figure size 864x576 with 18 Axes>"
            ]
          },
          "metadata": {
            "needs_background": "light"
          }
        }
      ]
    },
    {
      "cell_type": "code",
      "metadata": {
        "id": "gWaYGtKGx4RO",
        "colab": {
          "base_uri": "https://localhost:8080/",
          "height": 484
        },
        "outputId": "989a22b6-6a3b-4306-9957-5211de2fdd29"
      },
      "source": [
        "from tensorflow.keras.preprocessing.image import ImageDataGenerator\n",
        "\n",
        "# construct the image generator for data augmentation then\n",
        "# initialize the total number of images generated thus far\n",
        "aug = ImageDataGenerator(rotation_range=30, width_shift_range=0.1,\n",
        "                         height_shift_range=0.1, shear_range=0.2, zoom_range=0.2,\n",
        "                         horizontal_flip=False, fill_mode=\"nearest\")\n",
        "total = 0\n",
        "image = train_x[10:11,:,:,:]\n",
        "\n",
        "# construct the actual Python generator\n",
        "print(\"[INFO] generating images...\")\n",
        "imageGen = aug.flow(image, batch_size=1)\n",
        "\n",
        "# create a figure\n",
        "plt.figure(figsize=(12, 8))\n",
        "\n",
        "# loop over examples from our image data augmentation generator\n",
        "for img in imageGen:\n",
        "\n",
        "  show_image(img, train_y[10], total)\n",
        "\n",
        "  # increment our counter\n",
        "  total += 1\n",
        "\n",
        "  # if we have reached 10 examples, break from the loop\n",
        "  if total == 18:\n",
        "    break"
      ],
      "execution_count": null,
      "outputs": [
        {
          "output_type": "stream",
          "text": [
            "[INFO] generating images...\n"
          ],
          "name": "stdout"
        },
        {
          "output_type": "display_data",
          "data": {
            "image/png": "[encoded data removed]",
            "text/plain": [
              "<Figure size 864x576 with 18 Axes>"
            ]
          },
          "metadata": {
            "needs_background": "light"
          }
        }
      ]
    },
    {
      "cell_type": "code",
      "metadata": {
        "id": "FPUQvOYoDwPW"
      },
      "source": [
        "%%capture\n",
        "!pip install wandb"
      ],
      "execution_count": null,
      "outputs": []
    },
    {
      "cell_type": "code",
      "metadata": {
        "id": "igjMhzxjDwPX",
        "colab": {
          "base_uri": "https://localhost:8080/"
        },
        "outputId": "9f2aac47-202e-4f3a-8e7b-e5c4c82ba921"
      },
      "source": [
        "!wandb login"
      ],
      "execution_count": null,
      "outputs": [
        {
          "output_type": "stream",
          "text": [
            "\u001b[34m\u001b[1mwandb\u001b[0m: Currently logged in as: \u001b[33mivanovitch-silva\u001b[0m (use `wandb login --relogin` to force relogin)\n"
          ],
          "name": "stdout"
        }
      ]
    },
    {
      "cell_type": "code",
      "metadata": {
        "id": "F5Jxk-q_DwPX"
      },
      "source": [
        "import tensorflow as tf\n",
        "from tensorflow.keras.models import Sequential\n",
        "from tensorflow.keras.layers import Conv2D,AveragePooling2D,Flatten,Dense\n",
        "from sklearn.metrics import classification_report\n",
        "import matplotlib.pyplot as plt\n",
        "import numpy as np\n",
        "import time\n",
        "import datetime\n",
        "import os\n",
        "import pytz\n",
        "import wandb\n",
        "from wandb.keras import WandbCallback"
      ],
      "execution_count": null,
      "outputs": []
    },
    {
      "cell_type": "code",
      "metadata": {
        "id": "Oh-WSY-SD7MF",
        "colab": {
          "base_uri": "https://localhost:8080/",
          "height": 119
        },
        "outputId": "db8f99d5-85f5-471f-885b-a1a49100fc46"
      },
      "source": [
        "# Set an experiment name to group training and evaluation\n",
        "experiment_name = wandb.util.generate_id()\n",
        "\n",
        "# setup wandb\n",
        "wandb.init(project=\"week08\",\n",
        "           group=experiment_name,\n",
        "           config={\n",
        "               \"filter_c1\": 6,\n",
        "               \"filter_c1_size\": (5,5),\n",
        "               \"filter_c3\": 16,\n",
        "               \"filter_c3_size\": (5,5),\n",
        "               \"layer_c5\": 120,\n",
        "               \"layer_f6\": 84,\n",
        "               \"loss\": \"sparse_categorical_crossentropy\",\n",
        "               \"metric\": \"accuracy\",\n",
        "               \"epoch\": 6,\n",
        "               \"batch_size\": 32,\n",
        "               \"optimizer\": \"adam\"\n",
        "           })\n",
        "config = wandb.config"
      ],
      "execution_count": null,
      "outputs": [
        {
          "output_type": "display_data",
          "data": {
            "text/html": [
              "\n",
              "                Tracking run with wandb version 0.12.0<br/>\n",
              "                Syncing run <strong style=\"color:#cdcd00\">major-donkey-3</strong> to <a href=\"https://wandb.ai\" target=\"_blank\">Weights & Biases</a> <a href=\"https://docs.wandb.com/integrations/jupyter.html\" target=\"_blank\">(Documentation)</a>.<br/>\n",
              "                Project page: <a href=\"https://wandb.ai/ivanovitch-silva/week08\" target=\"_blank\">https://wandb.ai/ivanovitch-silva/week08</a><br/>\n",
              "                Run page: <a href=\"https://wandb.ai/ivanovitch-silva/week08/runs/1il8wpr2\" target=\"_blank\">https://wandb.ai/ivanovitch-silva/week08/runs/1il8wpr2</a><br/>\n",
              "                Run data is saved locally in <code>/content/wandb/run-20210824_103801-1il8wpr2</code><br/><br/>\n",
              "            "
            ],
            "text/plain": [
              "<IPython.core.display.HTML object>"
            ]
          },
          "metadata": {}
        }
      ]
    },
    {
      "cell_type": "code",
      "metadata": {
        "id": "nZHefRSpEFqy"
      },
      "source": [
        "#\n",
        "# create LeNet-5 model\n",
        "#\n",
        "# it is composed of the 8 layers such as:\n",
        "#      - 2 convolutional layers\n",
        "#      - 2 subsampling (avg pooling) layers\n",
        "#      - 1 flatten layer\n",
        "#      - 2 fully connected layers\n",
        "#      - 1 output layer with 10 outputs\n",
        "\n",
        "lenet5 = Sequential()\n",
        "\n",
        "lenet5.add(Conv2D(config.filter_c1, config.filter_c1_size, strides=1,  activation='tanh', input_shape=(28,28,1), padding='same')) #C1\n",
        "lenet5.add(AveragePooling2D()) #S2\n",
        "lenet5.add(Conv2D(config.filter_c3, config.filter_c3_size, strides=1, activation='tanh', padding='valid')) #C3\n",
        "lenet5.add(AveragePooling2D()) #S4\n",
        "lenet5.add(Flatten()) #Flatten\n",
        "lenet5.add(Dense(config.layer_c5, activation='tanh')) #C5\n",
        "lenet5.add(Dense(config.layer_f6, activation='tanh')) #F6\n",
        "lenet5.add(Dense(10, activation='softmax')) #Output layer"
      ],
      "execution_count": null,
      "outputs": []
    },
    {
      "cell_type": "code",
      "metadata": {
        "id": "iZWhskvvEFqz",
        "colab": {
          "base_uri": "https://localhost:8080/"
        },
        "outputId": "4e48d56d-bfa5-49cc-d04d-69d8f340aba7"
      },
      "source": [
        "lenet5.summary()"
      ],
      "execution_count": null,
      "outputs": [
        {
          "output_type": "stream",
          "text": [
            "Model: \"sequential_1\"\n",
            "_________________________________________________________________\n",
            "Layer (type)                 Output Shape              Param #   \n",
            "=================================================================\n",
            "conv2d_2 (Conv2D)            (None, 28, 28, 6)         156       \n",
            "_________________________________________________________________\n",
            "average_pooling2d_2 (Average (None, 14, 14, 6)         0         \n",
            "_________________________________________________________________\n",
            "conv2d_3 (Conv2D)            (None, 10, 10, 16)        2416      \n",
            "_________________________________________________________________\n",
            "average_pooling2d_3 (Average (None, 5, 5, 16)          0         \n",
            "_________________________________________________________________\n",
            "flatten_1 (Flatten)          (None, 400)               0         \n",
            "_________________________________________________________________\n",
            "dense_3 (Dense)              (None, 120)               48120     \n",
            "_________________________________________________________________\n",
            "dense_4 (Dense)              (None, 84)                10164     \n",
            "_________________________________________________________________\n",
            "dense_5 (Dense)              (None, 10)                850       \n",
            "=================================================================\n",
            "Total params: 61,706\n",
            "Trainable params: 61,706\n",
            "Non-trainable params: 0\n",
            "_________________________________________________________________\n"
          ],
          "name": "stdout"
        }
      ]
    },
    {
      "cell_type": "code",
      "metadata": {
        "id": "7ZqnqNq5EFqz",
        "colab": {
          "base_uri": "https://localhost:8080/",
          "height": 1000,
          "referenced_widgets": [
            "94607a5ce2dd4803ae8c32f79f7c284d",
            "5a5fa9721c844ceeb65070b744abcab5",
            "fa1da7ce1edd43d5a612ae35a8f888df",
            "323b463b8399407c9e745b393ab1b3dd",
            "cfa5518f33d14ae08dd4a7e1254d3337",
            "459e4dad727a4a2186533e7dfd5cdc4e",
            "1a378b60f8864bb0ad4ffea9319cd89b",
            "a4676f24abe347a0b34f68d9ac920a96"
          ]
        },
        "outputId": "19f66866-bfad-4f19-bda4-059981152f61"
      },
      "source": [
        "%%wandb\n",
        "\n",
        "# configure the optimizer, loss, and metrics to monitor.\n",
        "lenet5.compile(optimizer=config.optimizer,\n",
        "               loss=config.loss,\n",
        "               metrics=[config.metric])\n",
        "\n",
        "# construct the image generator for data augmentation then\n",
        "# initialize the total number of images generated thus far\n",
        "aug = ImageDataGenerator(rotation_range=30, width_shift_range=0.1,\n",
        "                         height_shift_range=0.1, shear_range=0.2, zoom_range=0.2,\n",
        "                         horizontal_flip=False, fill_mode=\"nearest\")\n",
        "\n",
        "print(\"[INFO] training network...\")\n",
        "history = lenet5.fit(aug.flow(train_x, train_y, batch_size=config.batch_size),\n",
        "                     validation_data=(test_x, test_y),\n",
        "                     epochs=config.epoch,\n",
        "                      callbacks=[WandbCallback()])\n",
        "\n",
        "wandb.finish()"
      ],
      "execution_count": null,
      "outputs": [
        {
          "output_type": "display_data",
          "data": {
            "text/html": [
              "<iframe src=\"https://wandb.ai/ivanovitch-silva/week08/runs/1il8wpr2?jupyter=true\" style=\"border:none;width:100%;height:420px\">\n",
              "                </iframe>"
            ],
            "text/plain": [
              "<wandb.jupyter.Run at 0x7fc8d4bbf310>"
            ]
          },
          "metadata": {}
        },
        {
          "output_type": "stream",
          "text": [
            "[INFO] training network...\n",
            "Epoch 1/6\n",
            "1875/1875 [==============================] - 18s 9ms/step - loss: 0.6816 - accuracy: 0.7817 - val_loss: 0.1149 - val_accuracy: 0.9647\n",
            "Epoch 2/6\n",
            "1875/1875 [==============================] - 17s 9ms/step - loss: 0.2473 - accuracy: 0.9226 - val_loss: 0.0819 - val_accuracy: 0.9738\n",
            "Epoch 3/6\n",
            "1875/1875 [==============================] - 17s 9ms/step - loss: 0.1797 - accuracy: 0.9442 - val_loss: 0.0740 - val_accuracy: 0.9750\n",
            "Epoch 4/6\n",
            "1875/1875 [==============================] - 17s 9ms/step - loss: 0.1535 - accuracy: 0.9520 - val_loss: 0.0622 - val_accuracy: 0.9802\n",
            "Epoch 5/6\n",
            "1875/1875 [==============================] - 17s 9ms/step - loss: 0.1366 - accuracy: 0.9579 - val_loss: 0.0589 - val_accuracy: 0.9809\n",
            "Epoch 6/6\n",
            "1875/1875 [==============================] - 17s 9ms/step - loss: 0.1275 - accuracy: 0.9610 - val_loss: 0.0710 - val_accuracy: 0.9775\n"
          ],
          "name": "stdout"
        },
        {
          "output_type": "display_data",
          "data": {
            "text/html": [
              "<br/>Waiting for W&B process to finish, PID 501<br/>Program ended successfully."
            ],
            "text/plain": [
              "<IPython.core.display.HTML object>"
            ]
          },
          "metadata": {}
        },
        {
          "output_type": "display_data",
          "data": {
            "application/vnd.jupyter.widget-view+json": {
              "model_id": "94607a5ce2dd4803ae8c32f79f7c284d",
              "version_minor": 0,
              "version_major": 2
            },
            "text/plain": [
              "VBox(children=(Label(value=' 0.76MB of 0.76MB uploaded (0.00MB deduped)\\r'), FloatProgress(value=1.0, max=1.0)…"
            ]
          },
          "metadata": {}
        },
        {
          "output_type": "display_data",
          "data": {
            "text/html": [
              "Find user logs for this run at: <code>/content/wandb/run-20210824_103801-1il8wpr2/logs/debug.log</code>"
            ],
            "text/plain": [
              "<IPython.core.display.HTML object>"
            ]
          },
          "metadata": {}
        },
        {
          "output_type": "display_data",
          "data": {
            "text/html": [
              "Find internal logs for this run at: <code>/content/wandb/run-20210824_103801-1il8wpr2/logs/debug-internal.log</code>"
            ],
            "text/plain": [
              "<IPython.core.display.HTML object>"
            ]
          },
          "metadata": {}
        },
        {
          "output_type": "display_data",
          "data": {
            "text/html": [
              "<h3>Run summary:</h3><br/><style>\n",
              "    table.wandb td:nth-child(1) { padding: 0 10px; text-align: right }\n",
              "    </style><table class=\"wandb\">\n",
              "<tr><td>epoch</td><td>5</td></tr><tr><td>loss</td><td>0.12752</td></tr><tr><td>accuracy</td><td>0.96098</td></tr><tr><td>val_loss</td><td>0.07102</td></tr><tr><td>val_accuracy</td><td>0.9775</td></tr><tr><td>_runtime</td><td>110</td></tr><tr><td>_timestamp</td><td>1629801591</td></tr><tr><td>_step</td><td>5</td></tr><tr><td>best_val_loss</td><td>0.05894</td></tr><tr><td>best_epoch</td><td>4</td></tr></table>"
            ],
            "text/plain": [
              "<IPython.core.display.HTML object>"
            ]
          },
          "metadata": {}
        },
        {
          "output_type": "display_data",
          "data": {
            "text/html": [
              "<h3>Run history:</h3><br/><style>\n",
              "    table.wandb td:nth-child(1) { padding: 0 10px; text-align: right }\n",
              "    </style><table class=\"wandb\">\n",
              "<tr><td>epoch</td><td>▁▂▄▅▇█</td></tr><tr><td>loss</td><td>█▃▂▁▁▁</td></tr><tr><td>accuracy</td><td>▁▇▇███</td></tr><tr><td>val_loss</td><td>█▄▃▁▁▃</td></tr><tr><td>val_accuracy</td><td>▁▅▅██▇</td></tr><tr><td>_runtime</td><td>▁▂▄▅▇█</td></tr><tr><td>_timestamp</td><td>▁▂▄▅▇█</td></tr><tr><td>_step</td><td>▁▂▄▅▇█</td></tr></table><br/>"
            ],
            "text/plain": [
              "<IPython.core.display.HTML object>"
            ]
          },
          "metadata": {}
        },
        {
          "output_type": "display_data",
          "data": {
            "text/html": [
              "Synced 5 W&B file(s), 1 media file(s), 0 artifact file(s) and 1 other file(s)"
            ],
            "text/plain": [
              "<IPython.core.display.HTML object>"
            ]
          },
          "metadata": {}
        },
        {
          "output_type": "display_data",
          "data": {
            "text/html": [
              "\n",
              "                    <br/>Synced <strong style=\"color:#cdcd00\">major-donkey-3</strong>: <a href=\"https://wandb.ai/ivanovitch-silva/week08/runs/1il8wpr2\" target=\"_blank\">https://wandb.ai/ivanovitch-silva/week08/runs/1il8wpr2</a><br/>\n",
              "                "
            ],
            "text/plain": [
              "<IPython.core.display.HTML object>"
            ]
          },
          "metadata": {}
        }
      ]
    },
    {
      "cell_type": "code",
      "metadata": {
        "id": "PXQwq5LhFfjr"
      },
      "source": [
        "%%capture\n",
        "# Install dependencies\n",
        "!pip install scikit-plot -qqq"
      ],
      "execution_count": null,
      "outputs": []
    },
    {
      "cell_type": "code",
      "metadata": {
        "id": "f37KaOGjFfjt",
        "colab": {
          "base_uri": "https://localhost:8080/",
          "height": 1000,
          "referenced_widgets": [
            "d9e260aae2ef458ebb48b18af190206c",
            "90cd5a9b74754075ad4486dd5bbd2182",
            "28840c44ff084b0386c6b3c77c1443fd",
            "16081a7a1f1f4e70bd22ed63a9f4d798",
            "a34aa3f34ed34d0f9c57069ce5ab446a",
            "40fd028180f24db4acc9a7c2e2d19d3b",
            "7b9b2286adaf4cd98112e8f38636fc3c",
            "e6da426a3aff489796ffcfd13b3f8455"
          ]
        },
        "outputId": "19ffea3a-4735-41b9-93f4-65c1abefb42f"
      },
      "source": [
        "import numpy as np\n",
        "from sklearn.metrics import f1_score\n",
        "import matplotlib.pyplot as plt\n",
        "from scikitplot.metrics import plot_confusion_matrix, plot_roc, plot_precision_recall\n",
        "\n",
        "wandb.init(project=\"week08\", group=experiment_name)\n",
        "\n",
        "# Class proportions\n",
        "labels = [str(i) for i in list(set(test_y))]\n",
        "wandb.log({'Class Proportions': wandb.sklearn.plot_class_proportions(train_y,test_y,labels)}, commit=False) # Hold on, more incoming!\n",
        "\n",
        "# Log F1 Score\n",
        "test_y_pred = np.asarray(lenet5.predict(test_x))\n",
        "test_y_pred_class = np.argmax(test_y_pred, axis=1)\n",
        "f1 = f1_score(test_y, test_y_pred_class, average='micro')\n",
        "wandb.log({\"f1\": f1}, commit=False)\n",
        "\n",
        "# Log Confusion Matrix\n",
        "fig, ax = plt.subplots(figsize=(16, 12))\n",
        "plot_confusion_matrix(test_y, test_y_pred_class, ax=ax)\n",
        "wandb.log({\"confusion_matrix\": wandb.Image(fig)}, commit=False)\n",
        "\n",
        "# Log ROC Curve\n",
        "fig, ax = plt.subplots(figsize=(16, 12))\n",
        "plot_roc(test_y, test_y_pred, ax=ax)\n",
        "wandb.log({\"plot_roc\": wandb.Image(fig)},commit=False)  # Now we've logged everything for this step\n",
        "\n",
        "# Precision vs Recall\n",
        "fig, ax = plt.subplots(figsize=(16, 12))\n",
        "plot_precision_recall(test_y, test_y_pred, ax=ax)\n",
        "wandb.log({\"plot_precision_recall\": wandb.Image(fig)},commit=False)  # Now we've logged everything for this step\n",
        "\n",
        "# Class Scores\n",
        "class_score_data = []\n",
        "for test, pred in zip(test_y, test_y_pred):\n",
        "    class_score_data.append([test, pred])\n",
        "\n",
        "wandb.log({\"class_scores\": wandb.Table(data=class_score_data,\n",
        "                                           columns=[\"test\", \"pred\"])}, commit=False)\n",
        "\n",
        "#\n",
        "# Visualize Predictions\n",
        "#\n",
        "# visualize 18 numbers\n",
        "def show_image(train_image, label, index):\n",
        "    plt.subplot(3, 6, index+1)\n",
        "    plt.imshow(tf.squeeze(train_image), cmap=plt.cm.gray)\n",
        "    plt.title(label)\n",
        "    plt.grid(b=False)\n",
        "\n",
        "# predictions\n",
        "predictions = lenet5.predict(test_x)\n",
        "results = np.argmax(predictions, axis = 1)\n",
        "\n",
        "# visualize the first 18 test results\n",
        "plt.figure(figsize=(12, 8))\n",
        "for index in range(18):\n",
        "    label = results[index]\n",
        "    image_pixels = test_x[index,:,:,:]\n",
        "    show_image(image_pixels, label, index)\n",
        "plt.tight_layout()\n",
        "\n",
        "wandb.log({\"Predictions\": plt}, commit=True)\n",
        "\n",
        "wandb.finish()"
      ],
      "execution_count": null,
      "outputs": [
        {
          "output_type": "display_data",
          "data": {
            "text/html": [
              "\n",
              "                Tracking run with wandb version 0.12.0<br/>\n",
              "                Syncing run <strong style=\"color:#cdcd00\">playful-wave-4</strong> to <a href=\"https://wandb.ai\" target=\"_blank\">Weights & Biases</a> <a href=\"https://docs.wandb.com/integrations/jupyter.html\" target=\"_blank\">(Documentation)</a>.<br/>\n",
              "                Project page: <a href=\"https://wandb.ai/ivanovitch-silva/week08\" target=\"_blank\">https://wandb.ai/ivanovitch-silva/week08</a><br/>\n",
              "                Run page: <a href=\"https://wandb.ai/ivanovitch-silva/week08/runs/jnls63q1\" target=\"_blank\">https://wandb.ai/ivanovitch-silva/week08/runs/jnls63q1</a><br/>\n",
              "                Run data is saved locally in <code>/content/wandb/run-20210824_104013-jnls63q1</code><br/><br/>\n",
              "            "
            ],
            "text/plain": [
              "<IPython.core.display.HTML object>"
            ]
          },
          "metadata": {}
        },
        {
          "output_type": "display_data",
          "data": {
            "text/html": [
              "<br/>Waiting for W&B process to finish, PID 664<br/>Program ended successfully."
            ],
            "text/plain": [
              "<IPython.core.display.HTML object>"
            ]
          },
          "metadata": {}
        },
        {
          "output_type": "display_data",
          "data": {
            "application/vnd.jupyter.widget-view+json": {
              "model_id": "d9e260aae2ef458ebb48b18af190206c",
              "version_minor": 0,
              "version_major": 2
            },
            "text/plain": [
              "VBox(children=(Label(value=' 2.90MB of 2.90MB uploaded (0.00MB deduped)\\r'), FloatProgress(value=1.0, max=1.0)…"
            ]
          },
          "metadata": {}
        },
        {
          "output_type": "display_data",
          "data": {
            "text/html": [
              "Find user logs for this run at: <code>/content/wandb/run-20210824_104013-jnls63q1/logs/debug.log</code>"
            ],
            "text/plain": [
              "<IPython.core.display.HTML object>"
            ]
          },
          "metadata": {}
        },
        {
          "output_type": "display_data",
          "data": {
            "text/html": [
              "Find internal logs for this run at: <code>/content/wandb/run-20210824_104013-jnls63q1/logs/debug-internal.log</code>"
            ],
            "text/plain": [
              "<IPython.core.display.HTML object>"
            ]
          },
          "metadata": {}
        },
        {
          "output_type": "display_data",
          "data": {
            "text/html": [
              "<h3>Run summary:</h3><br/><style>\n",
              "    table.wandb td:nth-child(1) { padding: 0 10px; text-align: right }\n",
              "    </style><table class=\"wandb\">\n",
              "<tr><td>_runtime</td><td>7</td></tr><tr><td>_timestamp</td><td>1629801620</td></tr><tr><td>_step</td><td>1</td></tr><tr><td>f1</td><td>0.9775</td></tr></table>"
            ],
            "text/plain": [
              "<IPython.core.display.HTML object>"
            ]
          },
          "metadata": {}
        },
        {
          "output_type": "display_data",
          "data": {
            "text/html": [
              "<h3>Run history:</h3><br/><style>\n",
              "    table.wandb td:nth-child(1) { padding: 0 10px; text-align: right }\n",
              "    </style><table class=\"wandb\">\n",
              "<tr><td>_runtime</td><td>▁█</td></tr><tr><td>_timestamp</td><td>▁█</td></tr><tr><td>_step</td><td>▁█</td></tr><tr><td>f1</td><td>▁</td></tr></table><br/>"
            ],
            "text/plain": [
              "<IPython.core.display.HTML object>"
            ]
          },
          "metadata": {}
        },
        {
          "output_type": "display_data",
          "data": {
            "text/html": [
              "Synced 4 W&B file(s), 6 media file(s), 3 artifact file(s) and 0 other file(s)"
            ],
            "text/plain": [
              "<IPython.core.display.HTML object>"
            ]
          },
          "metadata": {}
        },
        {
          "output_type": "display_data",
          "data": {
            "text/html": [
              "\n",
              "                    <br/>Synced <strong style=\"color:#cdcd00\">playful-wave-4</strong>: <a href=\"https://wandb.ai/ivanovitch-silva/week08/runs/jnls63q1\" target=\"_blank\">https://wandb.ai/ivanovitch-silva/week08/runs/jnls63q1</a><br/>\n",
              "                "
            ],
            "text/plain": [
              "<IPython.core.display.HTML object>"
            ]
          },
          "metadata": {}
        },
        {
          "output_type": "display_data",
          "data": {
            "image/png": "[encoded data removed]",
            "text/plain": [
              "<Figure size 1152x864 with 2 Axes>"
            ]
          },
          "metadata": {
            "needs_background": "light"
          }
        },
        {
          "output_type": "display_data",
          "data": {
            "image/png": "[encoded data removed]",
            "text/plain": [
              "<Figure size 1152x864 with 1 Axes>"
            ]
          },
          "metadata": {
            "needs_background": "light"
          }
        },
        {
          "output_type": "display_data",
          "data": {
            "image/png": "[encoded data removed]",
            "text/plain": [
              "<Figure size 1152x864 with 1 Axes>"
            ]
          },
          "metadata": {
            "needs_background": "light"
          }
        },
        {
          "output_type": "display_data",
          "data": {
            "image/png": "[encoded data removed]",
            "text/plain": [
              "<Figure size 864x576 with 18 Axes>"
            ]
          },
          "metadata": {
            "needs_background": "light"
          }
        }
      ]
    },
    {
      "cell_type": "code",
      "metadata": {
        "id": "H5jZT8cO5Oiu",
        "colab": {
          "base_uri": "https://localhost:8080/"
        },
        "outputId": "416cbb35-bd7b-487b-f9a4-fa36fb5063df"
      },
      "source": [
        "print(\"[INFO] evaluating network...\")\n",
        "predictions = lenet5.predict(test_x, batch_size=32)\n",
        "print(classification_report(test_y,predictions.argmax(axis=1)))"
      ],
      "execution_count": null,
      "outputs": [
        {
          "output_type": "stream",
          "text": [
            "[INFO] evaluating network...\n",
            "              precision    recall  f1-score   support\n",
            "\n",
            "           0       0.97      1.00      0.98       980\n",
            "           1       0.97      1.00      0.98      1135\n",
            "           2       0.97      0.98      0.98      1032\n",
            "           3       0.97      0.98      0.98      1010\n",
            "           4       0.99      0.98      0.98       982\n",
            "           5       0.98      0.99      0.98       892\n",
            "           6       0.99      0.98      0.99       958\n",
            "           7       0.96      0.98      0.97      1028\n",
            "           8       0.99      0.93      0.96       974\n",
            "           9       0.98      0.97      0.97      1009\n",
            "\n",
            "    accuracy                           0.98     10000\n",
            "   macro avg       0.98      0.98      0.98     10000\n",
            "weighted avg       0.98      0.98      0.98     10000\n",
            "\n"
          ],
          "name": "stdout"
        }
      ]
    },
    {
      "cell_type": "markdown",
      "metadata": {
        "id": "k3zfoqpWeXUd"
      },
      "source": [
        "### 2.2.3 Extensions"
      ]
    },
    {
      "cell_type": "markdown",
      "metadata": {
        "id": "3kVRLuFxeZkx"
      },
      "source": [
        "This section lists some ideas for extending that you may wish to explore.\n",
        "\n",
        "- **Batch normalization**. Implement BN technique before and after the activation function and\n",
        "review the final result.\n",
        "- **Other activation functions**. Investigate change the activation function to relu and compare the results.\n",
        "\n",
        "If you explore any of these extensions, I’d love to know."
      ]
    },
    {
      "cell_type": "markdown",
      "metadata": {
        "id": "FdZ_Y3GYK2rX"
      },
      "source": [
        "## 2.3 AlexNet"
      ]
    },
    {
      "cell_type": "markdown",
      "metadata": {
        "id": "F81wxQ7lK6I7"
      },
      "source": [
        "The work that perhaps could be credited with sparking renewed interest in neural networks and the beginning of the dominance of deep learning in many computer vision applications was the 2012 paper by Alex Krizhevsky et al. titled [ImageNet Classification with Deep Convolutional\n",
        "Neural Networks](https://papers.nips.cc/paper/2012/file/c399862d3b9d6b76c8436e924a68c45b-Paper.pdf). The paper describes a model later referred to as **AlexNet** designed to address the ImageNet Large Scale Visual Recognition Challenge or ILSVRC-2010 competition for classifying photographs of objects into one of 1,000 different categories.\n",
        "\n",
        "The ILSVRC was a competition designed to spur innovation in the field of computer vision. Before the development of AlexNet, the task was thought very difficult and far beyond the capability of modern computer vision methods.\n",
        "\n",
        "> AlexNet successfully demonstrated the capability\n",
        "of the convolutional neural network model in the domain and kindled a fire that resulted in many more improvements and innovations, many demonstrated on the same ILSVRC task in subsequent years.\n",
        "\n",
        "More broadly, **the paper showed that it is possible to develop deep and effective end-to-end models** for a challenging problem without using unsupervised pre-training techniques popular at the time.\n",
        "\n",
        "Important in the design of AlexNet was a suite of new or successful methods, but not widely adopted at the time. Now, they have become requirements when using CNNs for image classification.\n",
        "\n",
        "> AlexNet used the rectified linear activation function, or ReLU, as the nonlinearly after each convolutional layer, instead of S-shaped functions such as the logistic or Tanh that were common up until that point. A softmax activation function was used in the output layer, now a staple for multiclass classification with neural networks.\n",
        "\n",
        "The average pooling used in LeNet-5 was replaced with a max-pooling method, although in this case, overlapping pooling was found to outperform non-overlapping pooling that is commonly used today (e.g., stride of pooling operation is the same size as the pooling operation,\n",
        "e.g., 2 by 2 pixels). The newly proposed dropout method was used to address overfitting between the fully connected layers of the classifier part of the model to improve generalization error. The architecture of AlexNet is deep and extends upon some of the patterns established\n",
        "with LeNet-5. The image below, taken from the paper, summarizes the model architecture, in this case, split into two pipelines to train on the GPU hardware of the time.\n",
        "<!--\n",
        "<img width=\"800\" src=\"https://drive.google.com/uc?export=view&id=111DrLxQn-ejJ2-7zNA4M8t78wmqcMQNe\"/>\n",
        "-->\n"
      ]
    },
    {
      "cell_type": "markdown",
      "source": [
        "![Architecture-of-the-AlexNet-Convolutional-Neural-Network-for-Object-Photo-Classification-1024x341.png](data:image/png;base64,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)\n",
        "<caption>Architecture of the AlexNet Convolutional Neural Network for Object Photo Classification (taken from the 2012 paper).</caption>"
      ],
      "metadata": {
        "id": "5GfzO5cQbYYw"
      }
    },
    {
      "cell_type": "markdown",
      "source": [
        "\n",
        "**It is similar to LeNet-5, only much larger and deeper**, and it was the first to stack convolutional layers directly on top of one another, instead of stacking a pooling layer on top of each convolutional layer. Table below presents this architecture.\n",
        "\n",
        "\n",
        "![0_0Dq28HZESo4Ligdi.webp](data:image/webp;base64,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)\n",
        "\n",
        "<center>AlexNet Architecture.</center>"
      ],
      "metadata": {
        "id": "x8w9Kf5GcR3G"
      }
    },
    {
      "cell_type": "markdown",
      "source": [
        "\n",
        "\n",
        "\n",
        "The model has **five convolutional layers** in the **feature extraction part** of the model and **three fully connected layers** in the **classifier part** of the model. Input images were fixed to the size **227x227 (there is a typo in the original paper using 224 x 224) with three color channels**. In terms of the number of **filters** used in each convolutional layer, the pattern of increasing the number of filters with depth seen in LeNet was mainly adhered to; in this case, the sizes: **96, 256, 384, 384, and 256**. Similarly, the **pattern of decreasing the size of the filter** (kernel) with depth was used, starting from the smaller size of 11x11 and decreasing to 5x5, and then to 3x3 in the deeper layers. **The use of small filters such as 5x5 and 3x3 is now the norm**.\n",
        "\n",
        "The pattern of a convolutional layer followed by a pooling layer was used at the start and end of the feature detection part of the model. Interestingly, **a pattern of a convolutional layer followed immediately by a second convolutional** layer was used. **This pattern too has become a modern standard**.\n",
        "\n",
        "To reduce overfitting, the authors used **two regularization techniques**. First, they applied dropout with a 50% dropout rate during training to the outputs of layers F9 and F10. Second, they performed **data augmentation** by randomly shifting the training images by various offsets, flipping them horizontally, and changing the lighting conditions.\n",
        "\n",
        "**Data augmentation** artificially increases the size of the training set by generating many realistic variants of each training instance. **This reduces overfitting**, making this a regularization technique. The generated instances should be as realistic as possible: ideally, given an image from the augmented training set, a human should not be able to tell whether it was augmented or not. Simply adding white noise will not help; the modifications should be learnable (white noise is not).\n",
        "\n",
        "AlexNet also uses a competitive normalization step immediately after the ReLU step of layers C1 and C3, called **Local Response Normalization (LRN)**: the most strongly activated neurons inhibit other neurons located at the same position in neighboring feature maps (such competitive activation has been observed in biological neurons). This encourages different feature maps to specialize, pushing them apart and forcing them to explore a wider range of features, ultimately improving generalization.\n",
        "\n",
        "\n",
        "\n",
        "We can summarize the key aspects of the architecture relevant in modern models as follows:\n",
        "\n",
        "- Use of the ReLU activation function after convolutional layers and softmax for the output layer.\n",
        "- Use of Max Pooling instead of Average Pooling.\n",
        "- Use of Dropout regularization between the fully connected layers.\n",
        "- The pattern of a convolutional layer fed directly to another convolutional layer.\n",
        "- Use of Data Augmentation.\n",
        "\n",
        "\n",
        "> A variant of AlexNet called [ZF Net](https://arxiv.org/abs/1311.2901) was developed by Matthew Zeiler and Rob Fergus and won the 2013 ILSVRC challenge. It is essentially AlexNet with a few tweaked hyperparameters (number of feature maps, kernel size, stride, etc.)."
      ],
      "metadata": {
        "id": "GInuiS1IbZoc"
      }
    },
    {
      "cell_type": "markdown",
      "metadata": {
        "id": "s3MfpRAUMGq6"
      },
      "source": [
        "### 2.3.1 Implementing the AlexNet model"
      ]
    },
    {
      "cell_type": "markdown",
      "metadata": {
        "id": "BHGqW9dCshPQ"
      },
      "source": [
        "For the sake of understanding, look the table above and compare the hyperparameters and dimensions of each layer."
      ]
    },
    {
      "cell_type": "code",
      "metadata": {
        "id": "LAn06umgc-2I"
      },
      "source": [
        "# import the necessary packages\n",
        "from tensorflow.keras.models import Sequential\n",
        "from tensorflow.keras.layers import BatchNormalization\n",
        "from tensorflow.keras.layers import Conv2D\n",
        "from tensorflow.keras.layers import MaxPooling2D\n",
        "from tensorflow.keras.layers import Activation\n",
        "from tensorflow.keras.layers import Flatten\n",
        "from tensorflow.keras.layers import Dropout\n",
        "from tensorflow.keras.layers import Dense\n",
        "from tensorflow.keras.regularizers import l2\n",
        "\n",
        "# create a model\n",
        "model = Sequential()\n",
        "\n",
        "#\n",
        "# Block #1: first CONV => RELU => POOL layer set\n",
        "#\n",
        "model.add(Conv2D(96, (11, 11), strides=(4, 4),\n",
        "                 input_shape=(227,227,3), padding=\"valid\",\n",
        "                 kernel_regularizer=l2(0.0002),activation='relu'))\n",
        "\n",
        "# Batch Normalization does not exist in 2012, here is a modification of original proposal\n",
        "model.add(BatchNormalization())\n",
        "model.add(MaxPooling2D(pool_size=(3, 3), strides=(2, 2)))\n",
        "model.add(Dropout(0.25))\n",
        "\n",
        "#\n",
        "# Block #2: second CONV => RELU => POOL layer set\n",
        "#\n",
        "model.add(Conv2D(256, (5, 5), padding=\"same\",\n",
        "                 kernel_regularizer=l2(0.0002),activation='relu'))\n",
        "model.add(BatchNormalization())\n",
        "model.add(MaxPooling2D(pool_size=(3, 3), strides=(2, 2)))\n",
        "model.add(Dropout(0.25))\n",
        "\n",
        "#\n",
        "# Block #3: CONV => RELU => CONV => RELU => CONV => RELU\n",
        "#\n",
        "model.add(Conv2D(384, (3, 3), padding=\"same\",\n",
        "                 kernel_regularizer=l2(0.0002),activation='relu'))\n",
        "model.add(BatchNormalization())\n",
        "model.add(Conv2D(384, (3, 3), padding=\"same\",\n",
        "                 kernel_regularizer=l2(0.002),activation='relu'))\n",
        "model.add(BatchNormalization())\n",
        "model.add(Conv2D(256, (3, 3), padding=\"same\",\n",
        "                 kernel_regularizer=l2(0.002),activation='relu'))\n",
        "model.add(BatchNormalization())\n",
        "model.add(MaxPooling2D(pool_size=(3, 3), strides=(2, 2)))\n",
        "model.add(Dropout(0.25))\n",
        "\n",
        "#\n",
        "# Block #4: first set of FC => RELU layers\n",
        "#\n",
        "model.add(Flatten())\n",
        "model.add(Dense(4096, kernel_regularizer=l2(0.0002),activation='relu'))\n",
        "model.add(BatchNormalization())\n",
        "model.add(Dropout(0.5))\n",
        "\n",
        "#\n",
        "# Block #5: second set of FC => RELU layers\n",
        "#\n",
        "model.add(Dense(4096, kernel_regularizer=l2(0.0002),activation='relu'))\n",
        "model.add(BatchNormalization())\n",
        "model.add(Dropout(0.5))\n",
        "\n",
        "#\n",
        "# softmax classifier\n",
        "#\n",
        "model.add(Dense(1000, kernel_regularizer=l2(0.0002)))\n",
        "model.add(Activation(\"softmax\"))"
      ],
      "execution_count": null,
      "outputs": []
    },
    {
      "cell_type": "code",
      "metadata": {
        "id": "mfVqZPnedAsC",
        "colab": {
          "base_uri": "https://localhost:8080/"
        },
        "outputId": "8374d85d-ff8d-41f9-dab8-a5e67019c31c"
      },
      "source": [
        "# 62M parameters!!!\n",
        "model.summary()"
      ],
      "execution_count": null,
      "outputs": [
        {
          "output_type": "stream",
          "text": [
            "Model: \"sequential_2\"\n",
            "_________________________________________________________________\n",
            "Layer (type)                 Output Shape              Param #   \n",
            "=================================================================\n",
            "conv2d_4 (Conv2D)            (None, 55, 55, 96)        34944     \n",
            "_________________________________________________________________\n",
            "batch_normalization (BatchNo (None, 55, 55, 96)        384       \n",
            "_________________________________________________________________\n",
            "max_pooling2d (MaxPooling2D) (None, 27, 27, 96)        0         \n",
            "_________________________________________________________________\n",
            "dropout (Dropout)            (None, 27, 27, 96)        0         \n",
            "_________________________________________________________________\n",
            "conv2d_5 (Conv2D)            (None, 27, 27, 256)       614656    \n",
            "_________________________________________________________________\n",
            "batch_normalization_1 (Batch (None, 27, 27, 256)       1024      \n",
            "_________________________________________________________________\n",
            "max_pooling2d_1 (MaxPooling2 (None, 13, 13, 256)       0         \n",
            "_________________________________________________________________\n",
            "dropout_1 (Dropout)          (None, 13, 13, 256)       0         \n",
            "_________________________________________________________________\n",
            "conv2d_6 (Conv2D)            (None, 13, 13, 384)       885120    \n",
            "_________________________________________________________________\n",
            "batch_normalization_2 (Batch (None, 13, 13, 384)       1536      \n",
            "_________________________________________________________________\n",
            "conv2d_7 (Conv2D)            (None, 13, 13, 384)       1327488   \n",
            "_________________________________________________________________\n",
            "batch_normalization_3 (Batch (None, 13, 13, 384)       1536      \n",
            "_________________________________________________________________\n",
            "conv2d_8 (Conv2D)            (None, 13, 13, 256)       884992    \n",
            "_________________________________________________________________\n",
            "batch_normalization_4 (Batch (None, 13, 13, 256)       1024      \n",
            "_________________________________________________________________\n",
            "max_pooling2d_2 (MaxPooling2 (None, 6, 6, 256)         0         \n",
            "_________________________________________________________________\n",
            "dropout_2 (Dropout)          (None, 6, 6, 256)         0         \n",
            "_________________________________________________________________\n",
            "flatten_2 (Flatten)          (None, 9216)              0         \n",
            "_________________________________________________________________\n",
            "dense_6 (Dense)              (None, 4096)              37752832  \n",
            "_________________________________________________________________\n",
            "batch_normalization_5 (Batch (None, 4096)              16384     \n",
            "_________________________________________________________________\n",
            "dropout_3 (Dropout)          (None, 4096)              0         \n",
            "_________________________________________________________________\n",
            "dense_7 (Dense)              (None, 4096)              16781312  \n",
            "_________________________________________________________________\n",
            "batch_normalization_6 (Batch (None, 4096)              16384     \n",
            "_________________________________________________________________\n",
            "dropout_4 (Dropout)          (None, 4096)              0         \n",
            "_________________________________________________________________\n",
            "dense_8 (Dense)              (None, 1000)              4097000   \n",
            "_________________________________________________________________\n",
            "activation (Activation)      (None, 1000)              0         \n",
            "=================================================================\n",
            "Total params: 62,416,616\n",
            "Trainable params: 62,397,480\n",
            "Non-trainable params: 19,136\n",
            "_________________________________________________________________\n"
          ],
          "name": "stdout"
        }
      ]
    },
    {
      "cell_type": "markdown",
      "metadata": {
        "id": "4InqRNPVtcmj"
      },
      "source": [
        "# 3 Working with HDF5 files and large datasets\n",
        "\n",
        "\n",
        "\n"
      ]
    },
    {
      "cell_type": "markdown",
      "metadata": {
        "id": "QVjlaBJEn_db"
      },
      "source": [
        "So far in this course, we have only worked with datasets that can fit into the main memory of our machines (colab). For small datasets, this is a reasonable assumption – we load each individual image, preprocess it, and allow it to be fed through our network. However, for large scale deep\n",
        "learning datasets (e.g., ImageNet), we need to create data generators that access only a portion of the dataset at a time (i.e., a mini-batch), then allow the batch to be passed through the network.\n",
        "\n",
        "Luckily, Keras ships with methods that allow you to use the raw file paths on disk as inputs to a training process. You do not have to store the entire dataset in memory – simply supply the image paths to the Keras data generator and your images will be loaded in batches and fed through the\n",
        "network. However, this method is terribly inefficient. Each and every image residing on your disk requires an I/O operation which introduces latency into your training pipeline. Training deep learning networks is already slow enough – we would do well to avoid the I/O bottleneck as much as possible.\n",
        "\n",
        "**A more elegant solution would be to generate an HDF5 dataset for your raw images**. Not only is HDF5 capable of storing massive datasets, but it’s optimized for I/O operations, **especially for extracting batches (called “slices”)** from the file. As we’ll see throughout the remainder of this course, taking the extra step to pack the raw images residing on disk into an HDF5 file allows us to construct a deep learning framework that can be used to rapidly build datasets and train deep learning networks on top of them.\n",
        "\n",
        "In the remainder of this section, we’ll demonstrate how to construct an HDF5 dataset for the [Kaggle Dogs vs. Cats competition](https://www.kaggle.com/c/dogs-vs-cats). Right after,  we’ll use this HDF5 dataset to train the seminal [AlexNet architecture](https://proceedings.neurips.cc/paper/2012/file/c399862d3b9d6b76c8436e924a68c45b-Paper.pdf), eventually resulting in a top-25 position on the leaderboard in the respective competition."
      ]
    },
    {
      "cell_type": "markdown",
      "metadata": {
        "id": "VAB44gZbfYAq"
      },
      "source": [
        "## 3.1 What is HDF5?"
      ]
    },
    {
      "cell_type": "markdown",
      "metadata": {
        "id": "XY9ZvSgVfdxF"
      },
      "source": [
        "**HDF5** is binary data format created by the [HDF5 group](https://www.hdfgroup.org/solutions/hdf5/) to store gigantic numerical datasets on disk (far too large to store in memory) while facilitating easy access and computation on the rows of the datasets.\n",
        "\n",
        "> Data in HDF5 is stored hierarchically, similar to how a file system stores data.\n",
        "\n",
        "Data is first defined in groups, where a group is a container-like structure which can hold datasets and other\n",
        "groups. Once a group has been defined, a dataset can be created within the group. A dataset can be\n",
        "thought of as a multi-dimensional array (i.e., a NumPy array) of a homogeneous data type (integer,\n",
        "float, unicode, etc.).\n",
        "\n",
        "<!--\n",
        "An example of an HDF5 file containing a group with multiple datasets is\n",
        "displayed in Figure below.\n",
        "\n",
        "<center><img width=\"400\" src=\"https://drive.google.com/uc?export=view&id=1-oiHlD5B97FTA3p9pnnm5PJhS4ywI_f_\"></center><center>An example of a HDF5 file with three datasets.\n",
        "-->\n",
        "\n",
        "The first dataset contains the\n",
        "label_names for CALTECH-101. We then have labels, which maps the each image to its\n",
        "corresponding class label. Finally, the features dataset contains the image quantifications extracted\n",
        "by the CNN</center>\n",
        "\n",
        "**HDF5 is written in C**; however, by using the [h5py module](h5py.org), we can gain access to\n",
        "the underlying C API using the Python programming language. What makes **h5py** so awesome\n",
        "is the **ease of interaction with data**.\n",
        "\n",
        "> We can store huge amounts of data in our HDF5 dataset and manipulate the data in a NumPy-like fashion.\n",
        "\n",
        "For example, we can use standard Python syntax to access and slice rows from multi-terabyte datasets stored on disk as if they were simple NumPy arrays loaded into memory. Thanks to specialized data structures, these slices and row accesses are lighting quick.\n",
        "\n",
        "When using HDF5 with h5py, **you can think of your data as a gigantic NumPy array**\n",
        "that is too large to fit into main memory but can still be accessed and manipulated just the same.\n",
        "Perhaps best of all, **the HDF5 format is standardized**\n",
        "\n",
        "> meaning that datasets stored in HDF5 format are inherently portable and can be accessed by other developers using different programming languages such as C, MATLAB, and Java.\n",
        "\n",
        "We’ll be writing a custom Python class that allows us to efficiently accept input data and write it to an HDF5 dataset."
      ]
    },
    {
      "cell_type": "markdown",
      "metadata": {
        "id": "zisp6OplmCSt"
      },
      "source": [
        "## 3.2 Writing to an HDF5 dataset"
      ]
    },
    {
      "cell_type": "markdown",
      "metadata": {
        "id": "F96t7jk8mOXZ"
      },
      "source": [
        "Before we can even think about treating CNN Architectures, we first need to develop a bit of infrastructure. In particular, we need to define a Python class named **HDF5DatasetWriter**, which as the name suggests, is responsible for taking an input set of NumPy arrays (whether features, raw images, etc.) and writing them to HDF5 format."
      ]
    },
    {
      "cell_type": "code",
      "metadata": {
        "id": "QrT62Vkhv2NZ"
      },
      "source": [
        "# import the necessary packages\n",
        "import h5py\n",
        "import os\n",
        "\n",
        "class HDF5DatasetWriter:\n",
        "  def __init__(self, dims, outputPath, dataKey=\"images\",bufSize=1000):\n",
        "    \"\"\"\n",
        "    The constructor to HDF5DatasetWriter accepts four parameters, two of which are optional.\n",
        "\n",
        "    Args:\n",
        "    dims: controls the dimension or shape of the data we will be storing in the dataset.\n",
        "    if we were storing the (flattened) raw pixel intensities of the 28x28 = 784 MNIST dataset,\n",
        "    then dims=(70000, 784).\n",
        "    outputPath: path to where our output HDF5 file will be stored on disk.\n",
        "    datakey: The optional dataKey is the name of the dataset that will store\n",
        "    the data our algorithm will learn from.\n",
        "    bufSize: controls the size of our in-memory buffer, which we default to 1,000 feature\n",
        "    vectors/images. Once we reach bufSize, we’ll flush the buffer to the HDF5 dataset.\n",
        "    \"\"\"\n",
        "\n",
        "    # check to see if the output path exists, and if so, raise\n",
        "    # an exception\n",
        "    if os.path.exists(outputPath):\n",
        "      raise ValueError(\"The supplied `outputPath` already \"\n",
        "        \"exists and cannot be overwritten. Manually delete \"\n",
        "        \"the file before continuing.\", outputPath)\n",
        "\n",
        "    # open the HDF5 database for writing and create two datasets:\n",
        "    # one to store the images/features and another to store the\n",
        "    # class labels\n",
        "    self.db = h5py.File(outputPath, \"w\")\n",
        "    #\n",
        "    # for resource limitations due to hard-disk space, a compression algorithm can be used, the price is the demand of computational power\n",
        "    #\n",
        "    self.data = self.db.create_dataset(dataKey, dims,dtype=\"float\",compression='gzip')\n",
        "    self.labels = self.db.create_dataset(\"labels\", (dims[0],),dtype=\"int\")\n",
        "\n",
        "    # store the buffer size, then initialize the buffer itself\n",
        "    # along with the index into the datasets\n",
        "    self.bufSize = bufSize\n",
        "    self.buffer = {\"data\": [], \"labels\": []}\n",
        "    self.idx = 0\n",
        "\n",
        "  def add(self, rows, labels):\n",
        "    # add the rows and labels to the buffer\n",
        "    self.buffer[\"data\"].extend(rows)\n",
        "    self.buffer[\"labels\"].extend(labels)\n",
        "\n",
        "    # check to see if the buffer needs to be flushed to disk\n",
        "    if len(self.buffer[\"data\"]) >= self.bufSize:\n",
        "      self.flush()\n",
        "\n",
        "  def flush(self):\n",
        "    # write the buffers to disk then reset the buffer\n",
        "    i = self.idx + len(self.buffer[\"data\"])\n",
        "    self.data[self.idx:i] = self.buffer[\"data\"]\n",
        "    self.labels[self.idx:i] = self.buffer[\"labels\"]\n",
        "    self.idx = i\n",
        "    self.buffer = {\"data\": [], \"labels\": []}\n",
        "\n",
        "  def storeClassLabels(self, classLabels):\n",
        "    # create a dataset to store the actual class label names,\n",
        "    # then store the class labels\n",
        "    dt = h5py.special_dtype(vlen=str) # `vlen=unicode` for Py2.7\n",
        "    labelSet = self.db.create_dataset(\"label_names\",(len(classLabels),), dtype=dt)\n",
        "    labelSet[:] = classLabels\n",
        "\n",
        "  def close(self):\n",
        "    # check to see if there are any other entries in the buffer\n",
        "    # that need to be flushed to disk\n",
        "    if len(self.buffer\n",
        "           [\"data\"]) > 0:\n",
        "      self.flush()\n",
        "\n",
        "    # close the dataset\n",
        "    self.db.close()"
      ],
      "execution_count": null,
      "outputs": []
    },
    {
      "cell_type": "markdown",
      "metadata": {
        "id": "x3uegkGTcPdB"
      },
      "source": [
        "As you can see, the **HDF5DatasetWriter** doesn’t have much to do with machine learning or deep learning at all – it’s simply a class used to help us store data in HDF5 format. As you continue in your deep learning learning, you’ll notice that much of the initial labor when setting up a new problem is getting the data into a format you can work with. Once you have your data in a format that’s straightforward to manipulate, it becomes substantially easier to apply machine learning and deep learning techniques to your data."
      ]
    },
    {
      "cell_type": "markdown",
      "metadata": {
        "id": "QmiFiQopnMjn"
      },
      "source": [
        "## 3.3 Downloading Kaggle: Dogs vs. Cats"
      ]
    },
    {
      "cell_type": "markdown",
      "metadata": {
        "id": "9jQl5CP-pSPF"
      },
      "source": [
        "To download the Kaggle: Dogs vs. Cats dataset you’ll first need to create an account on kaggle.com. From there, head to the [Dogs vs. Cats homepage](https://www.kaggle.com/c/dogs-vs-cats/data)."
      ]
    },
    {
      "cell_type": "code",
      "metadata": {
        "id": "esFTx_wHmni3",
        "colab": {
          "base_uri": "https://localhost:8080/"
        },
        "outputId": "742b6f11-6a6a-43f1-e2dc-2156357fe78b"
      },
      "source": [
        "# download cat & dogs dataset (catdogs.zip)\n",
        "!gdown https://drive.google.com/uc?id=1RqVl-1AOFRYaktJuG3xxxmuur0ua8s-p"
      ],
      "execution_count": null,
      "outputs": [
        {
          "output_type": "stream",
          "text": [
            "Downloading...\n",
            "From: https://drive.google.com/uc?id=1RqVl-1AOFRYaktJuG3xxxmuur0ua8s-p\n",
            "To: /content/catdogs.zip\n",
            "570MB [00:07, 76.1MB/s]\n"
          ],
          "name": "stdout"
        }
      ]
    },
    {
      "cell_type": "code",
      "metadata": {
        "id": "-igquSvNn4G6"
      },
      "source": [
        "# train/dog.NNNN.jpg\n",
        "# train/cat.NNNN.jpg\n",
        "!unzip catdogs.zip"
      ],
      "execution_count": null,
      "outputs": []
    },
    {
      "cell_type": "code",
      "metadata": {
        "id": "LCmYyH7NoDcS"
      },
      "source": [
        "# we will be using the following data structure for this challenge\n",
        "#\n",
        "# | ----- catdogs\n",
        "# |       | ----- hdf5\n",
        "# |       | ----- output\n",
        "# |       | ----- train\n",
        "\n",
        "!mkdir catdogs\n",
        "!mkdir catdogs/hdf5\n",
        "!mkdir catdogs/output\n",
        "!mv train catdogs/"
      ],
      "execution_count": null,
      "outputs": []
    },
    {
      "cell_type": "code",
      "metadata": {
        "id": "KQjEjj79tCV5",
        "colab": {
          "base_uri": "https://localhost:8080/"
        },
        "outputId": "5e2528cf-1074-4a28-d1a8-5d99eba40c3a"
      },
      "source": [
        "# 25k instances\n",
        "!ls catdogs/train | wc -l"
      ],
      "execution_count": null,
      "outputs": [
        {
          "output_type": "stream",
          "text": [
            "25000\n"
          ],
          "name": "stdout"
        }
      ]
    },
    {
      "cell_type": "markdown",
      "metadata": {
        "id": "f1ia_8Wtr2rB"
      },
      "source": [
        "### 3.3.1 Building the Dataset"
      ]
    },
    {
      "cell_type": "code",
      "metadata": {
        "id": "qgP-qM_SrEPN"
      },
      "source": [
        "# define the paths to the images directory\n",
        "IMAGES_PATH = \"catdogs/train\"\n",
        "\n",
        "# since we do not have validation data or access to the testing\n",
        "# labels we need to take a number of images from the training\n",
        "# data and use them instead\n",
        "NUM_CLASSES = 2\n",
        "NUM_VAL_IMAGES = 1250 * NUM_CLASSES\n",
        "NUM_TEST_IMAGES = 1250 * NUM_CLASSES\n",
        "\n",
        "# define the path to the output training, validation, and testing\n",
        "# HDF5 files\n",
        "TRAIN_HDF5 = \"catdogs/hdf5/train.hdf5\"\n",
        "VAL_HDF5 = \"catdogs/hdf5/val.hdf5\"\n",
        "TEST_HDF5 = \"catdogs/hdf5/test.hdf5\"\n",
        "\n",
        "# path to the output model file\n",
        "MODEL_PATH = \"catdogs/alexnet_dogs_vs_cats.model\"\n",
        "\n",
        "# define the path to the dataset mean\n",
        "DATASET_MEAN = \"catdogs/dogs_vs_cats_mean.json\"\n",
        "\n",
        "# define the path to the output directory used for storing plots,\n",
        "# classification reports, etc.\n",
        "OUTPUT_PATH = \"catdogs/output\""
      ],
      "execution_count": null,
      "outputs": []
    },
    {
      "cell_type": "markdown",
      "metadata": {
        "id": "atTtOl4gsK_d"
      },
      "source": [
        "> On Line 2 we define the path to the directory containing the dog and cat images – these are the images that we’ll be packing into a HDF5 dataset later in this section.\n",
        "\n",
        "> Lines 7-9 define the total number of class labels (two: one for dog, another for cat) along with the number of validation and testing images (2,500 for each).\n",
        "\n",
        "> We can then specify the path to our output HDF5 files for the training, validation, and testing splits, respectively on Lines 13-15.\n",
        "\n",
        "The second half of the configuration file defines the path to the output serialized weights, the dataset mean, and a general “output” path to store plots, classification reports, logs, etc.\n",
        "\n",
        "The DATASET_MEAN file will be used to store the average red, green, and blue pixel intensity values across the entire (training) dataset. When we train our network, we’ll subtract the mean RGB values from every pixel in the image (the same goes for testing and evaluation as well). This method, called **mean subtraction**, is a type of data normalization technique and is more often used than scaling pixel intensities to the range [0,1] as it’s shown to be more effective on large datasets and deeper neural networks."
      ]
    },
    {
      "cell_type": "markdown",
      "metadata": {
        "id": "diFpXCQpv8b4"
      },
      "source": [
        "### 3.3.2 Aspect Aware"
      ]
    },
    {
      "cell_type": "code",
      "metadata": {
        "id": "6vCPSlWbv4zu"
      },
      "source": [
        "# import the necessary packages\n",
        "import imutils\n",
        "import cv2\n",
        "\n",
        "# useful class to help the resize of images\n",
        "class AspectAwarePreprocessor:\n",
        "\tdef __init__(self, width, height, inter=cv2.INTER_AREA):\n",
        "\t\t# store the target image width, height, and interpolation\n",
        "\t\t# method used when resizing\n",
        "\t\tself.width = width\n",
        "\t\tself.height = height\n",
        "\t\tself.inter = inter\n",
        "\n",
        "\tdef preprocess(self, image):\n",
        "\t\t# grab the dimensions of the image and then initialize\n",
        "\t\t# the deltas to use when cropping\n",
        "\t\t(h, w) = image.shape[:2]\n",
        "\t\tdW = 0\n",
        "\t\tdH = 0\n",
        "\n",
        "\t\t# if the width is smaller than the height, then resize\n",
        "\t\t# along the width (i.e., the smaller dimension) and then\n",
        "\t\t# update the deltas to crop the height to the desired\n",
        "\t\t# dimension\n",
        "\t\tif w < h:\n",
        "\t\t\timage = imutils.resize(image, width=self.width,\n",
        "\t\t\t\tinter=self.inter)\n",
        "\t\t\tdH = int((image.shape[0] - self.height) / 2.0)\n",
        "\n",
        "\t\t# otherwise, the height is smaller than the width so\n",
        "\t\t# resize along the height and then update the deltas\n",
        "\t\t# crop along the width\n",
        "\t\telse:\n",
        "\t\t\timage = imutils.resize(image, height=self.height,\n",
        "\t\t\t\tinter=self.inter)\n",
        "\t\t\tdW = int((image.shape[1] - self.width) / 2.0)\n",
        "\n",
        "\t\t# now that our images have been resized, we need to\n",
        "\t\t# re-grab the width and height, followed by performing\n",
        "\t\t# the crop\n",
        "\t\t(h, w) = image.shape[:2]\n",
        "\t\timage = image[dH:h - dH, dW:w - dW]\n",
        "\n",
        "\t\t# finally, resize the image to the provided spatial\n",
        "\t\t# dimensions to ensure our output image is always a fixed\n",
        "\t\t# size\n",
        "\t\treturn cv2.resize(image, (self.width, self.height),\n",
        "\t\t\tinterpolation=self.inter)"
      ],
      "execution_count": null,
      "outputs": []
    },
    {
      "cell_type": "markdown",
      "metadata": {
        "id": "nfC6aT2CwF5r"
      },
      "source": [
        "### 3.3.3 Converter images into HDF5"
      ]
    },
    {
      "cell_type": "code",
      "metadata": {
        "id": "mvTibrXhtAl6",
        "colab": {
          "base_uri": "https://localhost:8080/"
        },
        "outputId": "3589b317-7444-4d58-b51a-0f8330365836"
      },
      "source": [
        "#\n",
        "# Convert jpg images into hdf5 (train, val, test)\n",
        "#\n",
        "# 25min to 35min\n",
        "\n",
        "# import the necessary packages\n",
        "from sklearn.preprocessing import LabelEncoder\n",
        "from sklearn.model_selection import train_test_split\n",
        "from imutils import paths\n",
        "import numpy as np\n",
        "import progressbar\n",
        "import json\n",
        "import cv2\n",
        "import os\n",
        "\n",
        "# grab the paths to the images\n",
        "trainPaths = list(paths.list_images(IMAGES_PATH))\n",
        "trainLabels = [p.split(os.path.sep)[-1].split(\".\")[0] for p in trainPaths]\n",
        "le = LabelEncoder()\n",
        "trainLabels = le.fit_transform(trainLabels)\n",
        "\n",
        "# perform stratified sampling from the training set to build the\n",
        "# testing split from the training data\n",
        "split = train_test_split(trainPaths, trainLabels,\n",
        "                         test_size=NUM_TEST_IMAGES,\n",
        "                         stratify=trainLabels,random_state=42)\n",
        "(trainPaths, testPaths, trainLabels, testLabels) = split\n",
        "\n",
        "# perform another stratified sampling, this time to build the\n",
        "# validation data\n",
        "split = train_test_split(trainPaths, trainLabels,\n",
        "                         test_size=NUM_VAL_IMAGES,\n",
        "                         stratify=trainLabels,random_state=42)\n",
        "(trainPaths, valPaths, trainLabels, valLabels) = split\n",
        "\n",
        "# construct a list pairing the training, validation, and testing\n",
        "# image paths along with their corresponding labels and output HDF5\n",
        "# files\n",
        "datasets = [\n",
        "\t(\"train\", trainPaths, trainLabels, TRAIN_HDF5),\n",
        "\t(\"val\", valPaths, valLabels, VAL_HDF5),\n",
        "\t(\"test\", testPaths, testLabels, TEST_HDF5)]\n",
        "\n",
        "# initialize the image pre-processor and the lists of RGB channel\n",
        "# averages\n",
        "aap = AspectAwarePreprocessor(256, 256)\n",
        "(R, G, B) = ([], [], [])\n",
        "\n",
        "# loop over the dataset tuples\n",
        "for (dType, paths, labels, outputPath) in datasets:\n",
        "\t# create HDF5 writer\n",
        "\tprint(\"[INFO] building {}...\".format(outputPath))\n",
        "\twriter = HDF5DatasetWriter((len(paths), 256, 256, 3), outputPath)\n",
        "\n",
        "\t# initialize the progress bar\n",
        "\twidgets = [\"Building Dataset: \", progressbar.Percentage(), \" \",progressbar.Bar(), \" \", progressbar.ETA()]\n",
        "\tpbar = progressbar.ProgressBar(maxval=len(paths),widgets=widgets).start()\n",
        "\n",
        "\t# loop over the image paths\n",
        "\tfor (i, (path, label)) in enumerate(zip(paths, labels)):\n",
        "\t\t# load the image and process it\n",
        "\t\timage = cv2.imread(path)\n",
        "\t\timage = aap.preprocess(image)\n",
        "\n",
        "\t\t# if we are building the training dataset, then compute the\n",
        "\t\t# mean of each channel in the image, then update the\n",
        "\t\t# respective lists\n",
        "\t\tif dType == \"train\":\n",
        "\t\t\t(b, g, r) = cv2.mean(image)[:3]\n",
        "\t\t\tR.append(r)\n",
        "\t\t\tG.append(g)\n",
        "\t\t\tB.append(b)\n",
        "\n",
        "\t\t# add the image and label # to the HDF5 dataset\n",
        "\t\twriter.add([image], [label])\n",
        "\t\tpbar.update(i)\n",
        "\n",
        "\t# close the HDF5 writer\n",
        "\tpbar.finish()\n",
        "\twriter.close()\n",
        "\n",
        "# construct a dictionary of averages, then serialize the means to a\n",
        "# JSON file\n",
        "print(\"[INFO] serializing means...\")\n",
        "D = {\"R\": np.mean(R), \"G\": np.mean(G), \"B\": np.mean(B)}\n",
        "f = open(DATASET_MEAN, \"w\")\n",
        "f.write(json.dumps(D))\n",
        "f.close()"
      ],
      "execution_count": null,
      "outputs": [
        {
          "output_type": "stream",
          "text": [
            "Building Dataset:   0% |                                       | ETA:   0:02:00"
          ],
          "name": "stderr"
        },
        {
          "output_type": "stream",
          "text": [
            "[INFO] building catdogs/hdf5/train.hdf5...\n"
          ],
          "name": "stdout"
        },
        {
          "output_type": "stream",
          "text": [
            "Building Dataset: 100% |#######################################| Time:  0:13:30\n",
            "Building Dataset:   1% |                                       | ETA:   0:00:10"
          ],
          "name": "stderr"
        },
        {
          "output_type": "stream",
          "text": [
            "[INFO] building catdogs/hdf5/val.hdf5...\n"
          ],
          "name": "stdout"
        },
        {
          "output_type": "stream",
          "text": [
            "Building Dataset: 100% |#######################################| Time:  0:01:01\n",
            "Building Dataset:   1% |                                       | ETA:   0:00:09"
          ],
          "name": "stderr"
        },
        {
          "output_type": "stream",
          "text": [
            "[INFO] building catdogs/hdf5/test.hdf5...\n"
          ],
          "name": "stdout"
        },
        {
          "output_type": "stream",
          "text": [
            "Building Dataset: 100% |#######################################| Time:  0:01:01\n"
          ],
          "name": "stderr"
        },
        {
          "output_type": "stream",
          "text": [
            "[INFO] serializing means...\n"
          ],
          "name": "stdout"
        }
      ]
    },
    {
      "cell_type": "code",
      "metadata": {
        "id": "1wUg4TL7DQje"
      },
      "source": [
        "# copy hdf5 files for your google drive\n",
        "!cp -r catdogs/hdf5 /content/drive/MyDrive/Atividades/Ensino/Disciplinas/GRADUAÇAO/Deep\\ Learning/2021.1/Lesson/Week\\ 08/catdogs\n",
        "!cp -r catdogs/dogs_vs_cats_mean.json /content/drive/MyDrive/Atividades/Ensino/Disciplinas/GRADUAÇAO/Deep\\ Learning/2021.1/Lesson/Week\\ 08/catdogs\n",
        "!cp -r catdogs/output/ /content/drive/MyDrive/Atividades/Ensino/Disciplinas/GRADUAÇAO/Deep\\ Learning/2021.1/Lesson/Week\\ 08/catdogs"
      ],
      "execution_count": null,
      "outputs": []
    },
    {
      "cell_type": "markdown",
      "metadata": {
        "id": "Z5-gVeJxFYdo"
      },
      "source": [
        "<font color=\"red\"> Only execute the cell below if you already have hdf5 files stored in your google drive </font>"
      ]
    },
    {
      "cell_type": "code",
      "metadata": {
        "id": "qNS9YzB7EZqx"
      },
      "source": [
        "#\n",
        "# only in case loading data from drive\n",
        "#\n",
        "!mkdir catdogs\n",
        "!cp -r /content/drive/MyDrive/Atividades/Ensino/Disciplinas/GRADUAÇAO/Deep\\ Learning/2021.1/Lesson/Week\\ 08/catdogs/hdf5 catdogs\n",
        "!cp -r /content/drive/MyDrive/Atividades/Ensino/Disciplinas/GRADUAÇAO/Deep\\ Learning/2021.1/Lesson/Week\\ 08/catdogs/output catdogs\n",
        "!cp -r /content/drive/MyDrive/Atividades/Ensino/Disciplinas/GRADUAÇAO/Deep\\ Learning/2021.1/Lesson/Week\\ 08/catdogs/dogs_vs_cats_mean.json catdogs"
      ],
      "execution_count": null,
      "outputs": []
    },
    {
      "cell_type": "markdown",
      "metadata": {
        "id": "3xOksB6EGKfg"
      },
      "source": [
        "## 3.4 Competing in Kaggle: Dogs vs. Cats"
      ]
    },
    {
      "cell_type": "markdown",
      "metadata": {
        "id": "1alnTRfBGN26"
      },
      "source": [
        "### 3.4.1 Image Preprocessors"
      ]
    },
    {
      "cell_type": "code",
      "metadata": {
        "id": "fgmBX1ST1F8U"
      },
      "source": [
        "# import the necessary packages\n",
        "from tensorflow.keras.preprocessing.image import img_to_array\n",
        "\n",
        "class ImageToArrayPreprocessor:\n",
        "\tdef __init__(self, dataFormat=None):\n",
        "\t\t# store the image data format\n",
        "\t\tself.dataFormat = dataFormat\n",
        "\n",
        "\tdef preprocess(self, image):\n",
        "\t\t# apply the Keras utility function that correctly rearranges\n",
        "\t\t# the dimensions of the image\n",
        "\t\treturn img_to_array(image, data_format=self.dataFormat)"
      ],
      "execution_count": null,
      "outputs": []
    },
    {
      "cell_type": "markdown",
      "metadata": {
        "id": "2XgdXcA7aPfT"
      },
      "source": [
        "### 3.4.2 Mean preprocessor"
      ]
    },
    {
      "cell_type": "markdown",
      "metadata": {
        "id": "lgq3q5uLZj-l"
      },
      "source": [
        "Let’s get started with the mean pre-processor. We will learn how to convert an image\n",
        "dataset to HDF5 format – part of this conversion involved computing the average Red, Green, and Blue pixel intensities across all images in the training dataset. Now that we have these averages, we are going to perform a pixel-wise subtraction of these values from our input images as a **form of data normalization**."
      ]
    },
    {
      "cell_type": "code",
      "metadata": {
        "id": "mfbg-dCsUEuW"
      },
      "source": [
        "# import the necessary packages\n",
        "import cv2\n",
        "\n",
        "class MeanPreprocessor:\n",
        "\tdef __init__(self, rMean, gMean, bMean):\n",
        "\t\t# store the Red, Green, and Blue channel averages across a\n",
        "\t\t# training set\n",
        "\t\tself.rMean = rMean\n",
        "\t\tself.gMean = gMean\n",
        "\t\tself.bMean = bMean\n",
        "\n",
        "\tdef preprocess(self, image):\n",
        "\t\t# split the image into its respective Red, Green, and Blue\n",
        "\t\t# channels\n",
        "\t\t(B, G, R) = cv2.split(image.astype(\"float32\"))\n",
        "\n",
        "\t\t# subtract the means for each channel\n",
        "\t\tR -= self.rMean\n",
        "\t\tG -= self.gMean\n",
        "\t\tB -= self.bMean\n",
        "\n",
        "    # Keep in mind that OpenCV represents images in BGR order\n",
        "\t\t# merge the channels back together and return the image\n",
        "\t\treturn cv2.merge([B, G, R])"
      ],
      "execution_count": null,
      "outputs": []
    },
    {
      "cell_type": "markdown",
      "metadata": {
        "id": "COixYybsaWyp"
      },
      "source": [
        "### 3.4.3 Patch preprocessing"
      ]
    },
    {
      "cell_type": "markdown",
      "metadata": {
        "id": "rLxZ6UF7ahNo"
      },
      "source": [
        "The PatchPreprocessor is responsible for randomly sampling MxN regions of an image during the training process. We apply patch preprocessing when the spatial dimensions of our input images are larger than what the CNN expects – this is a common technique to help reduce overfitting, and is, therefore, **a form of regularization**. Instead of using the entire image during training, we instead crop a random portion of it and pass it to the network."
      ]
    },
    {
      "cell_type": "markdown",
      "metadata": {
        "id": "hPeYByPoa6C4"
      },
      "source": [
        "As you will see, we will construct an HDF5 dataset of Kaggle Dogs vs. Cats images where each image is 256x256 pixels. However, the AlexNet architecture that we’ll be implementing later in this lesson can only accept images of size 227x227 pixels. This is an excellent opportunity to perform data augmentation by randomly cropping a 227x227 region from the 256x256 image during training using PatchPreprocessor."
      ]
    },
    {
      "cell_type": "code",
      "metadata": {
        "id": "bm2bRAs2UKHj"
      },
      "source": [
        "# import the necessary packages\n",
        "from sklearn.feature_extraction.image import extract_patches_2d\n",
        "\n",
        "class PatchPreprocessor:\n",
        "\tdef __init__(self, width, height):\n",
        "\t\t# store the target width and height of the image\n",
        "\t\tself.width = width\n",
        "\t\tself.height = height\n",
        "\n",
        "\tdef preprocess(self, image):\n",
        "\t\t# extract a random crop from the image with the target width\n",
        "\t\t# and height\n",
        "\t\treturn extract_patches_2d(image, (self.height, self.width),\n",
        "\t\t\tmax_patches=1)[0]"
      ],
      "execution_count": null,
      "outputs": []
    },
    {
      "cell_type": "markdown",
      "metadata": {
        "id": "9gft-PE3aJvZ"
      },
      "source": [
        "### 3.4.4 Crop preprocessor"
      ]
    },
    {
      "cell_type": "markdown",
      "metadata": {
        "id": "LFW6NqV2eSYY"
      },
      "source": [
        "Next, we need to define a CropPreprocessor responsible for computing the 10-crops for oversampling. During the evaluating phase of our CNN, we’ll crop the four corners of the input image + the center region and then take their corresponding horizontal flips, for a total of ten samples per input image.\n",
        "\n",
        "These ten samples will be passed through the CNN, and then the probabilities averaged.\n",
        "Applying this over-sampling method tends to include 1-2 percent increases in classification accuracy (and in some cases, even higher)."
      ]
    },
    {
      "cell_type": "code",
      "metadata": {
        "id": "Jc0kftNdR2lk"
      },
      "source": [
        "# import the necessary packages\n",
        "import numpy as np\n",
        "import cv2\n",
        "\n",
        "class CropPreprocessor:\n",
        "\tdef __init__(self, width, height, horiz=True, inter=cv2.INTER_AREA):\n",
        "\t\t# store the target image width, height, whether or not\n",
        "\t\t# horizontal flips should be included, along with the\n",
        "\t\t# interpolation method used when resizing\n",
        "\t\tself.width = width\n",
        "\t\tself.height = height\n",
        "\t\tself.horiz = horiz\n",
        "\t\tself.inter = inter\n",
        "\n",
        "\tdef preprocess(self, image):\n",
        "\t\t# initialize the list of crops\n",
        "\t\tcrops = []\n",
        "\n",
        "\t\t# grab the width and height of the image then use these\n",
        "\t\t# dimensions to define the corners of the image based\n",
        "\t\t(h, w) = image.shape[:2]\n",
        "\t\tcoords = [\n",
        "\t\t\t[0, 0, self.width, self.height],\n",
        "\t\t\t[w - self.width, 0, w, self.height],\n",
        "\t\t\t[w - self.width, h - self.height, w, h],\n",
        "\t\t\t[0, h - self.height, self.width, h]]\n",
        "\n",
        "\t\t# compute the center crop of the image as well\n",
        "\t\tdW = int(0.5 * (w - self.width))\n",
        "\t\tdH = int(0.5 * (h - self.height))\n",
        "\t\tcoords.append([dW, dH, w - dW, h - dH])\n",
        "\n",
        "\t\t# loop over the coordinates, extract each of the crops,\n",
        "\t\t# and resize each of them to a fixed size\n",
        "\t\tfor (startX, startY, endX, endY) in coords:\n",
        "\t\t\tcrop = image[startY:endY, startX:endX]\n",
        "\t\t\tcrop = cv2.resize(crop, (self.width, self.height),\n",
        "\t\t\t\tinterpolation=self.inter)\n",
        "\t\t\tcrops.append(crop)\n",
        "\n",
        "\t\t# check to see if the horizontal flips should be taken\n",
        "\t\tif self.horiz:\n",
        "\t\t\t# compute the horizontal mirror flips for each crop\n",
        "\t\t\tmirrors = [cv2.flip(c, 1) for c in crops]\n",
        "\t\t\tcrops.extend(mirrors)\n",
        "\n",
        "\t\t# return the set of crops\n",
        "\t\treturn np.array(crops)"
      ],
      "execution_count": null,
      "outputs": []
    },
    {
      "cell_type": "markdown",
      "metadata": {
        "id": "2NF8faSog8so"
      },
      "source": [
        "### 3.4.5 HDF5 dataset generators"
      ]
    },
    {
      "cell_type": "markdown",
      "metadata": {
        "id": "soLUcyH1iCOO"
      },
      "source": [
        "Before we can implement the AlexNet architecture and train it on the Kaggle Dogs vs. Cats dataset, we first need to define a class responsible for yielding batches of images and labels from our HDF5 dataset. Section 3.3.3 discussed how to convert a set of images residing on disk into an HDF5 dataset – but how do we get them back out again? The answer is to define an **HDF5DatasetGenerator** class.\n",
        "\n",
        "Previously, all of our image datasets could be loaded into memory so we could rely on Keras generator utilities to yield our batches of images and corresponding labels. However, now that our datasets are too large to fit into memory, we need to handle implementing this generator ourselves."
      ]
    },
    {
      "cell_type": "code",
      "metadata": {
        "id": "uMo22QKUg7me"
      },
      "source": [
        "# import the necessary packages\n",
        "from tensorflow.keras.utils import to_categorical\n",
        "import numpy as np\n",
        "import h5py\n",
        "\n",
        "class HDF5DatasetGenerator:\n",
        "\tdef __init__(self, dbPath, batchSize, preprocessors=None, aug=None, binarize=True, classes=2):\n",
        "\t\t# store the batch size, preprocessors, and data augmentor,\n",
        "\t\t# whether or not the labels should be binarized, along with\n",
        "\t\t# the total number of classes\n",
        "\t\tself.batchSize = batchSize\n",
        "\t\tself.preprocessors = preprocessors\n",
        "\t\tself.aug = aug\n",
        "\t\tself.binarize = binarize\n",
        "\t\tself.classes = classes\n",
        "\n",
        "\t\t# open the HDF5 database for reading and determine the total\n",
        "\t\t# number of entries in the database\n",
        "\t\tself.db = h5py.File(dbPath, \"r\")\n",
        "\t\tself.numImages = self.db[\"labels\"].shape[0]\n",
        "\n",
        "\tdef generator(self, passes=np.inf):\n",
        "\t\t# initialize the epoch count\n",
        "\t\tepochs = 0\n",
        "\n",
        "\t\t# keep looping infinitely -- the model will stop once we have\n",
        "\t\t# reach the desired number of epochs\n",
        "\t\twhile epochs < passes:\n",
        "\t\t\t# loop over the HDF5 dataset\n",
        "\t\t\tfor i in np.arange(0, self.numImages, self.batchSize):\n",
        "\t\t\t\t# extract the images and labels from the HDF dataset\n",
        "\t\t\t\timages = self.db[\"images\"][i: i + self.batchSize]\n",
        "\t\t\t\tlabels = self.db[\"labels\"][i: i + self.batchSize]\n",
        "\n",
        "\t\t\t\t# check to see if the labels should be binarized\n",
        "\t\t\t\tif self.binarize:\n",
        "\t\t\t\t\tlabels = to_categorical(labels,\n",
        "\t\t\t\t\t\tself.classes)\n",
        "\n",
        "\t\t\t\t# check to see if our preprocessors are not None\n",
        "\t\t\t\tif self.preprocessors is not None:\n",
        "\t\t\t\t\t# initialize the list of processed images\n",
        "\t\t\t\t\tprocImages = []\n",
        "\n",
        "\t\t\t\t\t# loop over the images\n",
        "\t\t\t\t\tfor image in images:\n",
        "\t\t\t\t\t\t# loop over the preprocessors and apply each\n",
        "\t\t\t\t\t\t# to the image\n",
        "\t\t\t\t\t\tfor p in self.preprocessors:\n",
        "\t\t\t\t\t\t\timage = p.preprocess(image)\n",
        "\n",
        "\t\t\t\t\t\t# update the list of processed images\n",
        "\t\t\t\t\t\tprocImages.append(image)\n",
        "\n",
        "\t\t\t\t\t# update the images array to be the processed\n",
        "\t\t\t\t\t# images\n",
        "\t\t\t\t\timages = np.array(procImages)\n",
        "\n",
        "\t\t\t\t# if the data augmenator exists, apply it\n",
        "\t\t\t\tif self.aug is not None:\n",
        "\t\t\t\t\t(images, labels) = next(self.aug.flow(images,\n",
        "\t\t\t\t\t\tlabels, batch_size=self.batchSize))\n",
        "\n",
        "\t\t\t\t# yield a tuple of images and labels\n",
        "\t\t\t\tyield (images, labels)\n",
        "\n",
        "\t\t\t# increment the total number of epochs\n",
        "\t\t\tepochs += 1\n",
        "\n",
        "\tdef close(self):\n",
        "\t\t# close the database\n",
        "\t\tself.db.close()"
      ],
      "execution_count": null,
      "outputs": []
    },
    {
      "cell_type": "markdown",
      "metadata": {
        "id": "5Ou-_XnZqjrY"
      },
      "source": [
        "### 3.4.6 Simple preprocessor"
      ]
    },
    {
      "cell_type": "code",
      "metadata": {
        "id": "Juf1YRHzqmeU"
      },
      "source": [
        "# import the necessary packages\n",
        "import cv2\n",
        "\n",
        "class SimplePreprocessor:\n",
        "\tdef __init__(self, width, height, inter=cv2.INTER_AREA):\n",
        "\t\t# store the target image width, height, and interpolation\n",
        "\t\t# method used when resizing\n",
        "\t\tself.width = width\n",
        "\t\tself.height = height\n",
        "\t\tself.inter = inter\n",
        "\n",
        "\tdef preprocess(self, image):\n",
        "\t\t# resize the image to a fixed size, ignoring the aspect\n",
        "\t\t# ratio\n",
        "\t\treturn cv2.resize(image, (self.width, self.height),\n",
        "\t\t\tinterpolation=self.inter)"
      ],
      "execution_count": null,
      "outputs": []
    },
    {
      "cell_type": "markdown",
      "metadata": {
        "id": "1bJUx9Prq2xE"
      },
      "source": [
        "### 3.4.7 Training monitor"
      ]
    },
    {
      "cell_type": "code",
      "metadata": {
        "id": "m1JGywYeq5Wj"
      },
      "source": [
        "# import the necessary packages\n",
        "from tensorflow.keras.callbacks import BaseLogger\n",
        "import matplotlib.pyplot as plt\n",
        "import numpy as np\n",
        "import json\n",
        "import os\n",
        "\n",
        "class TrainingMonitor(BaseLogger):\n",
        "\tdef __init__(self, figPath, jsonPath=None, startAt=0):\n",
        "\t\t# store the output path for the figure, the path to the JSON\n",
        "\t\t# serialized file, and the starting epoch\n",
        "\t\tsuper(TrainingMonitor, self).__init__()\n",
        "\t\tself.figPath = figPath\n",
        "\t\tself.jsonPath = jsonPath\n",
        "\t\tself.startAt = startAt\n",
        "\n",
        "\tdef on_train_begin(self, logs={}):\n",
        "\t\t# initialize the history dictionary\n",
        "\t\tself.H = {}\n",
        "\n",
        "\t\t# if the JSON history path exists, load the training history\n",
        "\t\tif self.jsonPath is not None:\n",
        "\t\t\tif os.path.exists(self.jsonPath):\n",
        "\t\t\t\tself.H = json.loads(open(self.jsonPath).read())\n",
        "\n",
        "\t\t\t\t# check to see if a starting epoch was supplied\n",
        "\t\t\t\tif self.startAt > 0:\n",
        "\t\t\t\t\t# loop over the entries in the history log and\n",
        "\t\t\t\t\t# trim any entries that are past the starting\n",
        "\t\t\t\t\t# epoch\n",
        "\t\t\t\t\tfor k in self.H.keys():\n",
        "\t\t\t\t\t\tself.H[k] = self.H[k][:self.startAt]\n",
        "\n",
        "\tdef on_epoch_end(self, epoch, logs={}):\n",
        "\t\t# loop over the logs and update the loss, accuracy, etc.\n",
        "\t\t# for the entire training process\n",
        "\t\tfor (k, v) in logs.items():\n",
        "\t\t\tl = self.H.get(k, [])\n",
        "\t\t\tl.append(float(v))\n",
        "\t\t\tself.H[k] = l\n",
        "\n",
        "\t\t# check to see if the training history should be serialized\n",
        "\t\t# to file\n",
        "\t\tif self.jsonPath is not None:\n",
        "\t\t\tf = open(self.jsonPath, \"w\")\n",
        "\t\t\tf.write(json.dumps(self.H))\n",
        "\t\t\tf.close()\n",
        "\n",
        "\t\t# ensure at least two epochs have passed before plotting\n",
        "\t\t# (epoch starts at zero)\n",
        "\t\tif len(self.H[\"loss\"]) > 1:\n",
        "\t\t\t# plot the training loss and accuracy\n",
        "\t\t\tN = np.arange(0, len(self.H[\"loss\"]))\n",
        "\t\t\tplt.style.use(\"ggplot\")\n",
        "\t\t\tplt.figure()\n",
        "\t\t\tplt.plot(N, self.H[\"loss\"], label=\"train_loss\")\n",
        "\t\t\tplt.plot(N, self.H[\"val_loss\"], label=\"val_loss\")\n",
        "\t\t\tplt.plot(N, self.H[\"accuracy\"], label=\"train_acc\")\n",
        "\t\t\tplt.plot(N, self.H[\"val_accuracy\"], label=\"val_acc\")\n",
        "\t\t\tplt.title(\"Training Loss and Accuracy [Epoch {}]\".format(\n",
        "\t\t\t\tlen(self.H[\"loss\"])))\n",
        "\t\t\tplt.xlabel(\"Epoch #\")\n",
        "\t\t\tplt.ylabel(\"Loss/Accuracy\")\n",
        "\t\t\tplt.legend()\n",
        "\n",
        "\t\t\t# save the figure\n",
        "\t\t\tplt.savefig(self.figPath)\n",
        "\t\t\tplt.close()"
      ],
      "execution_count": null,
      "outputs": []
    },
    {
      "cell_type": "markdown",
      "metadata": {
        "id": "nk2HBr6JAMQ8"
      },
      "source": [
        "### 3.4.8 Rank accuracy\n"
      ]
    },
    {
      "cell_type": "code",
      "metadata": {
        "id": "AJCbMd1sAPP8"
      },
      "source": [
        "# import the necessary packages\n",
        "import numpy as np\n",
        "\n",
        "def rank5_accuracy(preds, labels):\n",
        "\t# initialize the rank-1 and rank-5 accuracies\n",
        "\trank1 = 0\n",
        "\trank5 = 0\n",
        "\n",
        "\t# loop over the predictions and ground-truth labels\n",
        "\tfor (p, gt) in zip(preds, labels):\n",
        "\t\t# sort the probabilities by their index in descending\n",
        "\t\t# order so that the more confident guesses are at the\n",
        "\t\t# front of the list\n",
        "\t\tp = np.argsort(p)[::-1]\n",
        "\n",
        "\t\t# check if the ground-truth label is in the top-5\n",
        "\t\t# predictions\n",
        "\t\tif gt in p[:5]:\n",
        "\t\t\trank5 += 1\n",
        "\n",
        "\t\t# check to see if the ground-truth is the #1 prediction\n",
        "\t\tif gt == p[0]:\n",
        "\t\t\trank1 += 1\n",
        "\n",
        "\t# compute the final rank-1 and rank-5 accuracies\n",
        "\trank1 /= float(len(preds))\n",
        "\trank5 /= float(len(preds))\n",
        "\n",
        "\t# return a tuple of the rank-1 and rank-5 accuracies\n",
        "\treturn (rank1, rank5)"
      ],
      "execution_count": null,
      "outputs": []
    },
    {
      "cell_type": "markdown",
      "metadata": {
        "id": "vrmCQKbMHI-4"
      },
      "source": [
        "### 3.4.9 SimpleDatasetLoader"
      ]
    },
    {
      "cell_type": "code",
      "metadata": {
        "id": "wj4RbTs8HH62"
      },
      "source": [
        "# import the necessary packages\n",
        "import numpy as np\n",
        "import cv2\n",
        "import os\n",
        "\n",
        "# helper to load images\n",
        "class SimpleDatasetLoader:\n",
        "\tdef __init__(self, preprocessors=None):\n",
        "\t\t# store the image preprocessor\n",
        "\t\tself.preprocessors = preprocessors\n",
        "\n",
        "\t\t# if the preprocessors are None, initialize them as an\n",
        "\t\t# empty list\n",
        "\t\tif self.preprocessors is None:\n",
        "\t\t\tself.preprocessors = []\n",
        "\n",
        "\tdef load(self, imagePaths, verbose=-1):\n",
        "\t\t# initialize the list of features and labels\n",
        "\t\tdata = []\n",
        "\t\tlabels = []\n",
        "\n",
        "\t\t# loop over the input images\n",
        "\t\tfor (i, imagePath) in enumerate(imagePaths):\n",
        "\t\t\t# load the image and extract the class label assuming\n",
        "\t\t\t# that our path has the following format:\n",
        "\t\t\t# /path/to/dataset/{class}/{image}.jpg\n",
        "\t\t\timage = cv2.imread(imagePath)\n",
        "\t\t\tlabel = imagePath.split(os.path.sep)[-2]\n",
        "\n",
        "\t\t\t# check to see if our preprocessors are not None\n",
        "\t\t\tif self.preprocessors is not None:\n",
        "\t\t\t\t# loop over the preprocessors and apply each to\n",
        "\t\t\t\t# the image\n",
        "\t\t\t\tfor p in self.preprocessors:\n",
        "\t\t\t\t\timage = p.preprocess(image)\n",
        "\n",
        "\t\t\t# treat our processed image as a \"feature vector\"\n",
        "\t\t\t# by updating the data list followed by the labels\n",
        "\t\t\tdata.append(image)\n",
        "\t\t\tlabels.append(label)\n",
        "\n",
        "\t\t\t# show an update every `verbose` images\n",
        "\t\t\tif verbose > 0 and i > 0 and (i + 1) % verbose == 0:\n",
        "\t\t\t\tprint(\"[INFO] processed {}/{}\".format(i + 1,\n",
        "\t\t\t\t\tlen(imagePaths)))\n",
        "\n",
        "\t\t# return a tuple of the data and labels\n",
        "\t\treturn (np.array(data), np.array(labels))"
      ],
      "execution_count": null,
      "outputs": []
    },
    {
      "cell_type": "markdown",
      "metadata": {
        "id": "VFt0U2oUmMuU"
      },
      "source": [
        "## 3.5 Implementing AlexNet"
      ]
    },
    {
      "cell_type": "code",
      "metadata": {
        "id": "ax0EAsPgmEea"
      },
      "source": [
        "# import the necessary packages\n",
        "from tensorflow.keras.models import Sequential\n",
        "from tensorflow.keras.layers import BatchNormalization\n",
        "from tensorflow.keras.layers import Conv2D\n",
        "from tensorflow.keras.layers import MaxPooling2D\n",
        "from tensorflow.keras.layers import Activation\n",
        "from tensorflow.keras.layers import Flatten\n",
        "from tensorflow.keras.layers import Dropout\n",
        "from tensorflow.keras.layers import Dense\n",
        "from tensorflow.keras.regularizers import l2\n",
        "from tensorflow.keras import backend as K\n",
        "\n",
        "class AlexNet:\n",
        "\t@staticmethod\n",
        "\tdef build(width, height, depth, classes, reg=0.0002):\n",
        "\t\t# initialize the model along with the input shape to be\n",
        "\t\t# \"channels last\" and the channels dimension itself\n",
        "\t\tmodel = Sequential()\n",
        "\t\tinputShape = (height, width, depth)\n",
        "\t\tchanDim = -1\n",
        "\n",
        "\t\t# if we are using \"channels first\", update the input shape\n",
        "\t\t# and channels dimension\n",
        "\t\tif K.image_data_format() == \"channels_first\":\n",
        "\t\t\tinputShape = (depth, height, width)\n",
        "\t\t\tchanDim = 1\n",
        "\n",
        "\t\t# Block #1: first CONV => RELU => POOL layer set\n",
        "\t\tmodel.add(Conv2D(96, (11, 11), strides=(4, 4),input_shape=inputShape, padding=\"valid\",kernel_regularizer=l2(reg)))\n",
        "\t\tmodel.add(Activation(\"relu\"))\n",
        "\t\tmodel.add(BatchNormalization(axis=chanDim))\n",
        "\t\tmodel.add(MaxPooling2D(pool_size=(3, 3), strides=(2, 2)))\n",
        "\t\tmodel.add(Dropout(0.25))\n",
        "\n",
        "\t\t# Block #2: second CONV => RELU => POOL layer set\n",
        "\t\tmodel.add(Conv2D(256, (5, 5), padding=\"same\",kernel_regularizer=l2(reg)))\n",
        "\t\tmodel.add(Activation(\"relu\"))\n",
        "\t\tmodel.add(BatchNormalization(axis=chanDim))\n",
        "\t\tmodel.add(MaxPooling2D(pool_size=(3, 3), strides=(2, 2)))\n",
        "\t\tmodel.add(Dropout(0.25))\n",
        "\n",
        "\t\t# Block #3: CONV => RELU => CONV => RELU => CONV => RELU\n",
        "\t\tmodel.add(Conv2D(384, (3, 3), padding=\"same\",kernel_regularizer=l2(reg)))\n",
        "\t\tmodel.add(Activation(\"relu\"))\n",
        "\t\tmodel.add(BatchNormalization(axis=chanDim))\n",
        "\t\tmodel.add(Conv2D(384, (3, 3), padding=\"same\",kernel_regularizer=l2(reg)))\n",
        "\t\tmodel.add(Activation(\"relu\"))\n",
        "\t\tmodel.add(BatchNormalization(axis=chanDim))\n",
        "\t\tmodel.add(Conv2D(256, (3, 3), padding=\"same\",kernel_regularizer=l2(reg)))\n",
        "\t\tmodel.add(Activation(\"relu\"))\n",
        "\t\tmodel.add(BatchNormalization(axis=chanDim))\n",
        "\t\tmodel.add(MaxPooling2D(pool_size=(3, 3), strides=(2, 2)))\n",
        "\t\tmodel.add(Dropout(0.25))\n",
        "\n",
        "\t\t# Block #4: first set of FC => RELU layers\n",
        "\t\tmodel.add(Flatten())\n",
        "\t\tmodel.add(Dense(4096, kernel_regularizer=l2(reg)))\n",
        "\t\tmodel.add(Activation(\"relu\"))\n",
        "\t\tmodel.add(BatchNormalization())\n",
        "\t\tmodel.add(Dropout(0.5))\n",
        "\n",
        "\t\t# Block #5: second set of FC => RELU layers\n",
        "\t\tmodel.add(Dense(4096, kernel_regularizer=l2(reg)))\n",
        "\t\tmodel.add(Activation(\"relu\"))\n",
        "\t\tmodel.add(BatchNormalization())\n",
        "\t\tmodel.add(Dropout(0.5))\n",
        "\n",
        "\t\t# softmax classifier\n",
        "\t\tmodel.add(Dense(classes, kernel_regularizer=l2(reg)))\n",
        "\t\tmodel.add(Activation(\"softmax\"))\n",
        "\n",
        "\t\t# return the constructed network architecture\n",
        "\t\treturn model"
      ],
      "execution_count": null,
      "outputs": []
    },
    {
      "cell_type": "markdown",
      "metadata": {
        "id": "xeWP4j7-nGuU"
      },
      "source": [
        "## 3.6 Training AlexNet on Kaggle: dogs vs cats"
      ]
    },
    {
      "cell_type": "code",
      "metadata": {
        "id": "FXM6nqiaqBh1"
      },
      "source": [
        "# define the path to the output training, validation, and testing\n",
        "# HDF5 files\n",
        "TRAIN_HDF5 = \"catdogs/hdf5/train.hdf5\"\n",
        "VAL_HDF5 = \"catdogs/hdf5/val.hdf5\"\n",
        "TEST_HDF5 = \"catdogs/hdf5/test.hdf5\"\n",
        "\n",
        "# path to the output model file\n",
        "MODEL_PATH = \"catdogs/alexnet_dogs_vs_cats.model\"\n",
        "\n",
        "# define the path to the dataset mean\n",
        "DATASET_MEAN = \"catdogs/dogs_vs_cats_mean.json\"\n",
        "\n",
        "# define the path to the output directory used for storing plots,\n",
        "# classification reports, etc.\n",
        "OUTPUT_PATH = \"/content/drive/MyDrive/Atividades/Ensino/Disciplinas/GRADUAÇAO/Deep Learning/2021.1/Lesson/Week 08/catdogs/\""
      ],
      "execution_count": null,
      "outputs": []
    },
    {
      "cell_type": "code",
      "metadata": {
        "id": "MmNyJTrMpfeY",
        "colab": {
          "base_uri": "https://localhost:8080/"
        },
        "outputId": "7488c2be-3acd-4cc5-8984-5f7ded47c820"
      },
      "source": [
        "# import the necessary packages\n",
        "# set the matplotlib backend so figures can be saved in the background\n",
        "import matplotlib\n",
        "matplotlib.use(\"Agg\")\n",
        "\n",
        "# import the necessary packages\n",
        "from tensorflow.keras.preprocessing.image import ImageDataGenerator\n",
        "from tensorflow.keras.optimizers import Adam\n",
        "from keras.callbacks import ModelCheckpoint\n",
        "\n",
        "import json\n",
        "import os\n",
        "\n",
        "# Configurations related to checkpoint\n",
        "# resume or not the model\n",
        "resume = True\n",
        "\n",
        "# checkpoint files\n",
        "filepath= OUTPUT_PATH + \"/epochs:{epoch:03d}-val_acc:{val_accuracy:.3f}.hdf5\"\n",
        "checkpoint = ModelCheckpoint(filepath, monitor='val_accuracy', verbose=1, save_best_only=True, mode='max')\n",
        "\n",
        "# construct the training image generator for data augmentation\n",
        "aug = ImageDataGenerator(rotation_range=20, zoom_range=0.15,\n",
        "                         width_shift_range=0.2,\n",
        "                         height_shift_range=0.2,\n",
        "                         shear_range=0.15,\n",
        "                         horizontal_flip=True, fill_mode=\"nearest\")\n",
        "\n",
        "# load the RGB means for the training set\n",
        "means = json.loads(open(DATASET_MEAN).read())\n",
        "\n",
        "# initialize the image preprocessors\n",
        "sp = SimplePreprocessor(227, 227)\n",
        "pp = PatchPreprocessor(227, 227)\n",
        "mp = MeanPreprocessor(means[\"R\"], means[\"G\"], means[\"B\"])\n",
        "iap = ImageToArrayPreprocessor()\n",
        "\n",
        "# initialize the training and validation dataset generators\n",
        "trainGen = HDF5DatasetGenerator(TRAIN_HDF5, 128, aug=aug,preprocessors=[pp, mp, iap], classes=2)\n",
        "valGen = HDF5DatasetGenerator(VAL_HDF5, 128,preprocessors=[sp, mp, iap], classes=2)\n",
        "\n",
        "# initialize the optimizer\n",
        "print(\"[INFO] compiling model...\")\n",
        "opt = Adam(lr=1e-3)\n",
        "\n",
        "model = AlexNet.build(width=227, height=227, depth=3,classes=2, reg=0.0002)\n",
        "model.compile(loss=\"binary_crossentropy\", optimizer=opt,metrics=[\"accuracy\"])\n",
        "\n",
        "# construct the set of callbacks\n",
        "path = os.path.sep.join([OUTPUT_PATH, \"{}.png\".format(os.getpid())])\n",
        "callbacks = [TrainingMonitor(path)]\n",
        "\n",
        "initial_epoch = 1\n",
        "\n",
        "# load previou weights\n",
        "if resume == True:\n",
        "  model.load_weights(OUTPUT_PATH + \"/epochs:045-val_acc:0.921.hdf5\")\n",
        "  initial_epoch = 45\n",
        "\n",
        "# train the network\n",
        "history = model.fit(trainGen.generator(),\n",
        "          steps_per_epoch=trainGen.numImages // 128,\n",
        "          validation_data=valGen.generator(),\n",
        "          validation_steps=valGen.numImages // 128,\n",
        "          epochs=45,\n",
        "          max_queue_size=10,\n",
        "          callbacks=[callbacks,checkpoint], verbose=1,\n",
        "          initial_epoch=initial_epoch)\n",
        "\n",
        "# save the model to file\n",
        "print(\"[INFO] serializing model...\")\n",
        "model.save(MODEL_PATH, overwrite=True)\n",
        "\n",
        "# close the HDF5 datasets\n",
        "trainGen.close()\n",
        "valGen.close()"
      ],
      "execution_count": null,
      "outputs": [
        {
          "output_type": "stream",
          "text": [
            "[INFO] compiling model...\n",
            "[INFO] serializing model...\n",
            "INFO:tensorflow:Assets written to: catdogs/alexnet_dogs_vs_cats.model/assets\n"
          ],
          "name": "stdout"
        }
      ]
    },
    {
      "cell_type": "markdown",
      "metadata": {
        "id": "KgP_SX7JBvSK"
      },
      "source": [
        "## 3.7 Evaluating AlexNet"
      ]
    },
    {
      "cell_type": "code",
      "metadata": {
        "id": "A8nruX7p86lq",
        "colab": {
          "base_uri": "https://localhost:8080/"
        },
        "outputId": "96aa1ffe-a1f3-4959-9aee-014c3e20d1a2"
      },
      "source": [
        "# import the necessary packages\n",
        "from tensorflow.keras.models import load_model\n",
        "from sklearn.metrics import classification_report\n",
        "import numpy as np\n",
        "import progressbar\n",
        "import json\n",
        "\n",
        "# load the RGB means for the training set\n",
        "means = json.loads(open(DATASET_MEAN).read())\n",
        "\n",
        "# initialize the image preprocessors\n",
        "sp = SimplePreprocessor(227, 227)\n",
        "mp = MeanPreprocessor(means[\"R\"], means[\"G\"], means[\"B\"])\n",
        "cp = CropPreprocessor(227, 227)\n",
        "iap = ImageToArrayPreprocessor()\n",
        "\n",
        "# load the pretrained network\n",
        "print(\"[INFO] loading model...\")\n",
        "model = load_model(MODEL_PATH)\n",
        "\n",
        "# initialize the testing dataset generator, then make predictions on\n",
        "# the testing data\n",
        "print(\"[INFO] predicting on test data (no crops)...\")\n",
        "testGen = HDF5DatasetGenerator(TEST_HDF5, 64,\n",
        "                               preprocessors=[sp, mp, iap], classes=2)\n",
        "predictions = model.predict(testGen.generator(),\n",
        "                            steps=testGen.numImages // 64, max_queue_size=10)\n",
        "\n",
        "# compute the rank-1 and rank-5 accuracies\n",
        "(rank1, _) = rank5_accuracy(predictions, testGen.db[\"labels\"])\n",
        "print(\"[INFO] rank-1: {:.2f}%\".format(rank1 * 100))\n",
        "testGen.close()\n",
        "\n",
        "\n",
        "# re-initialize the testing set generator, this time excluding the\n",
        "# `SimplePreprocessor`\n",
        "testGen = HDF5DatasetGenerator(TEST_HDF5, 64,\n",
        "                               preprocessors=[mp], classes=2)\n",
        "predictions = []\n",
        "\n",
        "# initialize the progress bar\n",
        "widgets = [\"Evaluating: \", progressbar.Percentage(), \" \", progressbar.Bar(), \" \", progressbar.ETA()]\n",
        "pbar = progressbar.ProgressBar(maxval=testGen.numImages // 64,widgets=widgets).start()\n",
        "\n",
        "# loop over a single pass of the test data\n",
        "for (i, (images, labels)) in enumerate(testGen.generator(passes=1)):\n",
        "\t# loop over each of the individual images\n",
        "\tfor image in images:\n",
        "\t\t# apply the crop preprocessor to the image to generate 10\n",
        "\t\t# separate crops, then convert them from images to arrays\n",
        "\t\tcrops = cp.preprocess(image)\n",
        "\t\tcrops = np.array([iap.preprocess(c) for c in crops],\n",
        "\t\t\tdtype=\"float32\")\n",
        "\n",
        "\t\t# make predictions on the crops and then average them\n",
        "\t\t# together to obtain the final prediction\n",
        "\t\tpred = model.predict(crops)\n",
        "\t\tpredictions.append(pred.mean(axis=0))\n",
        "\n",
        "\t# update the progress bar\n",
        "\tpbar.update(i)\n",
        "\n",
        "# compute the rank-1 accuracy\n",
        "pbar.finish()\n",
        "print(\"[INFO] predicting on test data (with crops)...\")\n",
        "(rank1, _) = rank5_accuracy(predictions, testGen.db[\"labels\"])\n",
        "print(\"[INFO] rank-1: {:.2f}%\".format(rank1 * 100))\n",
        "testGen.close()"
      ],
      "execution_count": null,
      "outputs": [
        {
          "output_type": "stream",
          "text": [
            "[INFO] loading model...\n",
            "[INFO] predicting on test data (no crops)...\n"
          ],
          "name": "stdout"
        },
        {
          "output_type": "stream",
          "text": [
            "\r                                                                               \r\rEvaluating: N/A% |                                             | ETA:  --:--:--"
          ],
          "name": "stderr"
        },
        {
          "output_type": "stream",
          "text": [
            "[INFO] rank-1: 91.47%\n"
          ],
          "name": "stdout"
        },
        {
          "output_type": "stream",
          "text": [
            "Evaluating: 100% |#############################################| Time:  0:02:22\n"
          ],
          "name": "stderr"
        },
        {
          "output_type": "stream",
          "text": [
            "[INFO] predicting on test data (with crops)...\n",
            "[INFO] rank-1: 93.04%\n"
          ],
          "name": "stdout"
        }
      ]
    }
  ]
}